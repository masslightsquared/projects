{
  "nbformat": 4,
  "nbformat_minor": 0,
  "metadata": {
    "kernelspec": {
      "display_name": "Python 3",
      "language": "python",
      "name": "python3"
    },
    "language_info": {
      "codemirror_mode": {
        "name": "ipython",
        "version": 3
      },
      "file_extension": ".py",
      "mimetype": "text/x-python",
      "name": "python",
      "nbconvert_exporter": "python",
      "pygments_lexer": "ipython3",
      "version": "3.8.5"
    },
    "colab": {
      "name": "Car_sales_predictions_v3.ipynb",
      "provenance": [],
      "collapsed_sections": [
        "9g-2fwgydnNh",
        "Lx-wS125dnNk",
        "PCLgRXivdnNp",
        "fo-NxmSLdnNr",
        "B6D2kqejdnNv",
        "2ImYOho6dnNy"
      ]
    }
  },
  "cells": [
    {
      "cell_type": "markdown",
      "metadata": {
        "id": "lNnTTMT9dnM4"
      },
      "source": [
        "# Today you are a Data Scientist at Tesla! \n",
        "## You have assigned a new project to look at car sales from Quarters 1-2 in California for 2019 to make predictions as to which cars will be sold more than the others in Q3 and Q4, to ensure enough inventory to meet demands!"
      ]
    },
    {
      "cell_type": "markdown",
      "metadata": {
        "id": "AQqh5DMaq9QW"
      },
      "source": [
        "### If running this notebook in Google Colab, run the following cells first. Make sure you've placed the Q12 and Q34 sales data in the same Google Drive folder as this notebook."
      ]
    },
    {
      "cell_type": "code",
      "metadata": {
        "id": "8n75mujnrqU4",
        "colab": {
          "base_uri": "https://localhost:8080/",
          "height": 72
        },
        "outputId": "f97bcfe7-8bb0-446f-fbce-8ded1ccaa144"
      },
      "source": [
        "!pip install -U -q PyDrive\n",
        "from pydrive.auth import GoogleAuth\n",
        "from pydrive.drive import GoogleDrive\n",
        "from google.colab import auth\n",
        "from oauth2client.client import GoogleCredentials\n",
        "from statsmodels.tools.tools import add_constant\n",
        "from sklearn.model_selection import GridSearchCV"
      ],
      "execution_count": null,
      "outputs": [
        {
          "output_type": "stream",
          "text": [
            "/usr/local/lib/python3.6/dist-packages/statsmodels/tools/_testing.py:19: FutureWarning: pandas.util.testing is deprecated. Use the functions in the public API at pandas.testing instead.\n",
            "  import pandas.util.testing as tm\n"
          ],
          "name": "stderr"
        }
      ]
    },
    {
      "cell_type": "code",
      "metadata": {
        "id": "HT1yuyN5zJ19"
      },
      "source": [
        "auth.authenticate_user()\n",
        "gauth = GoogleAuth()\n",
        "gauth.credentials = GoogleCredentials.get_application_default()\n",
        "drive = GoogleDrive(gauth)"
      ],
      "execution_count": null,
      "outputs": []
    },
    {
      "cell_type": "markdown",
      "metadata": {
        "id": "q6AR4c7ivMtD"
      },
      "source": [
        "Replace the ID with ID of file you want to access. To get this ID: \n",
        "\n",
        "1.   Right-click on the name of the appropriate file in your Google Drive\n",
        "2.   Click \"Get link\"\n",
        "3.   Copy the characters between `d/` and the following slash\n",
        "4.   Paste them into the dictionary argument of the call to `drive.CreateFile()` as the value associated with the 'id' key. Make sure that this value is a string.\n",
        "\n"
      ]
    },
    {
      "cell_type": "code",
      "metadata": {
        "id": "mb5xkL1QzPYg"
      },
      "source": [
        "# Replace the ID with ID of file you want to access\n",
        "Q12 = drive.CreateFile({'id':'1BTPKbhYjjuaimOzCSpPty3olu_AI4Sn-'}) \n",
        "Q12.GetContentFile('sales_Q12_2019.csv') \n",
        "Q34 = drive.CreateFile({'id':'1R1cdDhKZWyKHRdtwp2hOzSYK9h5vxwGp'}) \n",
        "Q34.GetContentFile('sales_Q34_2019.csv') "
      ],
      "execution_count": null,
      "outputs": []
    },
    {
      "cell_type": "markdown",
      "metadata": {
        "id": "OI6NP0JBdnM5"
      },
      "source": [
        "### Import the necessary modules"
      ]
    },
    {
      "cell_type": "code",
      "metadata": {
        "id": "WdNx3CHEdnM5"
      },
      "source": [
        "import os\n",
        "import tensorflow as tf\n",
        "from tensorboard.plugins import projector\n",
        "import numpy as np\n",
        "import pandas as pd\n",
        "import matplotlib.pyplot as plt"
      ],
      "execution_count": null,
      "outputs": []
    },
    {
      "cell_type": "markdown",
      "metadata": {
        "id": "dM4fGT-ldnM8"
      },
      "source": [
        "### Read in the CSV file containing the California sales data for Quarters 1 and 2\n",
        "\n",
        "Then examine the data's shape and first few rows"
      ]
    },
    {
      "cell_type": "code",
      "metadata": {
        "id": "jj2l01M8dnM9",
        "colab": {
          "base_uri": "https://localhost:8080/",
          "height": 318
        },
        "outputId": "bc59c17c-4515-42c0-e19c-d4ee5063a66d"
      },
      "source": [
        "df_sales = pd.read_csv(\"sales_Q12_2019.csv\")\n",
        "print(df_sales.shape)\n",
        "df_sales.head()"
      ],
      "execution_count": null,
      "outputs": [
        {
          "output_type": "stream",
          "text": [
            "(5837, 76)\n"
          ],
          "name": "stdout"
        },
        {
          "output_type": "execute_result",
          "data": {
            "text/html": [
              "<div>\n",
              "<style scoped>\n",
              "    .dataframe tbody tr th:only-of-type {\n",
              "        vertical-align: middle;\n",
              "    }\n",
              "\n",
              "    .dataframe tbody tr th {\n",
              "        vertical-align: top;\n",
              "    }\n",
              "\n",
              "    .dataframe thead th {\n",
              "        text-align: right;\n",
              "    }\n",
              "</style>\n",
              "<table border=\"1\" class=\"dataframe\">\n",
              "  <thead>\n",
              "    <tr style=\"text-align: right;\">\n",
              "      <th></th>\n",
              "      <th>main_S60_1</th>\n",
              "      <th>main_S60_2</th>\n",
              "      <th>main_type_SP100D</th>\n",
              "      <th>main_type_S60D_1</th>\n",
              "      <th>main_type_S60D_2</th>\n",
              "      <th>main_type_S70</th>\n",
              "      <th>main_type_S70D</th>\n",
              "      <th>main_type_S75</th>\n",
              "      <th>main_type_S75D</th>\n",
              "      <th>main_type_S80</th>\n",
              "      <th>main_type_S80D</th>\n",
              "      <th>main_type_S85</th>\n",
              "      <th>main_type_S85P</th>\n",
              "      <th>main_type_P85D</th>\n",
              "      <th>main_type_S90</th>\n",
              "      <th>main_type_S90D</th>\n",
              "      <th>main_type_S100D</th>\n",
              "      <th>engine_A</th>\n",
              "      <th>engine_B</th>\n",
              "      <th>engine_C</th>\n",
              "      <th>engine_D</th>\n",
              "      <th>engine_E</th>\n",
              "      <th>engine_F</th>\n",
              "      <th>engine_G</th>\n",
              "      <th>engine_H</th>\n",
              "      <th>engine_I</th>\n",
              "      <th>engine_J</th>\n",
              "      <th>engine_K</th>\n",
              "      <th>engine_L</th>\n",
              "      <th>engine_M</th>\n",
              "      <th>engine_N</th>\n",
              "      <th>engine_O</th>\n",
              "      <th>engine_P</th>\n",
              "      <th>engine_Q</th>\n",
              "      <th>engine_R</th>\n",
              "      <th>engine_S</th>\n",
              "      <th>engine_T</th>\n",
              "      <th>engine_U</th>\n",
              "      <th>engine_V</th>\n",
              "      <th>engine_W</th>\n",
              "      <th>engine_X</th>\n",
              "      <th>engine_Y</th>\n",
              "      <th>engine_Z</th>\n",
              "      <th>sales_1</th>\n",
              "      <th>sales_2</th>\n",
              "      <th>sales_3</th>\n",
              "      <th>sales_4</th>\n",
              "      <th>sales_5</th>\n",
              "      <th>sales_6</th>\n",
              "      <th>sales_7</th>\n",
              "      <th>sales_8</th>\n",
              "      <th>sales_9</th>\n",
              "      <th>sales_10</th>\n",
              "      <th>sales_11</th>\n",
              "      <th>sales_12</th>\n",
              "      <th>sales_13</th>\n",
              "      <th>sales_14</th>\n",
              "      <th>sales_15</th>\n",
              "      <th>sales_16</th>\n",
              "      <th>sales_17</th>\n",
              "      <th>sales_18</th>\n",
              "      <th>sales_19</th>\n",
              "      <th>sales_20</th>\n",
              "      <th>sales_21</th>\n",
              "      <th>sales_22</th>\n",
              "      <th>sales_23</th>\n",
              "      <th>sales_24</th>\n",
              "      <th>sales_25</th>\n",
              "      <th>sales_26</th>\n",
              "      <th>sales_27</th>\n",
              "      <th>sales_28</th>\n",
              "      <th>sales_29</th>\n",
              "      <th>sales_30</th>\n",
              "      <th>MSRP</th>\n",
              "      <th>dealer_state</th>\n",
              "      <th>date</th>\n",
              "    </tr>\n",
              "  </thead>\n",
              "  <tbody>\n",
              "    <tr>\n",
              "      <th>0</th>\n",
              "      <td>0</td>\n",
              "      <td>0</td>\n",
              "      <td>0</td>\n",
              "      <td>0</td>\n",
              "      <td>0</td>\n",
              "      <td>1</td>\n",
              "      <td>0</td>\n",
              "      <td>0</td>\n",
              "      <td>0</td>\n",
              "      <td>0</td>\n",
              "      <td>0</td>\n",
              "      <td>0</td>\n",
              "      <td>0</td>\n",
              "      <td>0</td>\n",
              "      <td>0</td>\n",
              "      <td>0</td>\n",
              "      <td>0</td>\n",
              "      <td>0</td>\n",
              "      <td>0</td>\n",
              "      <td>0</td>\n",
              "      <td>0</td>\n",
              "      <td>0</td>\n",
              "      <td>0</td>\n",
              "      <td>0</td>\n",
              "      <td>0</td>\n",
              "      <td>0</td>\n",
              "      <td>0</td>\n",
              "      <td>0</td>\n",
              "      <td>0</td>\n",
              "      <td>0</td>\n",
              "      <td>0</td>\n",
              "      <td>0</td>\n",
              "      <td>0</td>\n",
              "      <td>0</td>\n",
              "      <td>0</td>\n",
              "      <td>0</td>\n",
              "      <td>0</td>\n",
              "      <td>0</td>\n",
              "      <td>0</td>\n",
              "      <td>0</td>\n",
              "      <td>0</td>\n",
              "      <td>0</td>\n",
              "      <td>0</td>\n",
              "      <td>0</td>\n",
              "      <td>0</td>\n",
              "      <td>0</td>\n",
              "      <td>0</td>\n",
              "      <td>0</td>\n",
              "      <td>0</td>\n",
              "      <td>0</td>\n",
              "      <td>1</td>\n",
              "      <td>0</td>\n",
              "      <td>0</td>\n",
              "      <td>0</td>\n",
              "      <td>0</td>\n",
              "      <td>0</td>\n",
              "      <td>0</td>\n",
              "      <td>0</td>\n",
              "      <td>0</td>\n",
              "      <td>0</td>\n",
              "      <td>0</td>\n",
              "      <td>0</td>\n",
              "      <td>0</td>\n",
              "      <td>0</td>\n",
              "      <td>0</td>\n",
              "      <td>0</td>\n",
              "      <td>0</td>\n",
              "      <td>0</td>\n",
              "      <td>0</td>\n",
              "      <td>0</td>\n",
              "      <td>0</td>\n",
              "      <td>0</td>\n",
              "      <td>0</td>\n",
              "      <td>44610</td>\n",
              "      <td>California</td>\n",
              "      <td>2019-04-28</td>\n",
              "    </tr>\n",
              "    <tr>\n",
              "      <th>1</th>\n",
              "      <td>0</td>\n",
              "      <td>0</td>\n",
              "      <td>0</td>\n",
              "      <td>0</td>\n",
              "      <td>0</td>\n",
              "      <td>0</td>\n",
              "      <td>0</td>\n",
              "      <td>0</td>\n",
              "      <td>0</td>\n",
              "      <td>0</td>\n",
              "      <td>0</td>\n",
              "      <td>0</td>\n",
              "      <td>0</td>\n",
              "      <td>0</td>\n",
              "      <td>0</td>\n",
              "      <td>0</td>\n",
              "      <td>1</td>\n",
              "      <td>1</td>\n",
              "      <td>0</td>\n",
              "      <td>0</td>\n",
              "      <td>0</td>\n",
              "      <td>0</td>\n",
              "      <td>0</td>\n",
              "      <td>0</td>\n",
              "      <td>0</td>\n",
              "      <td>0</td>\n",
              "      <td>0</td>\n",
              "      <td>0</td>\n",
              "      <td>0</td>\n",
              "      <td>0</td>\n",
              "      <td>0</td>\n",
              "      <td>0</td>\n",
              "      <td>0</td>\n",
              "      <td>0</td>\n",
              "      <td>0</td>\n",
              "      <td>0</td>\n",
              "      <td>0</td>\n",
              "      <td>0</td>\n",
              "      <td>0</td>\n",
              "      <td>0</td>\n",
              "      <td>0</td>\n",
              "      <td>0</td>\n",
              "      <td>0</td>\n",
              "      <td>0</td>\n",
              "      <td>0</td>\n",
              "      <td>0</td>\n",
              "      <td>0</td>\n",
              "      <td>0</td>\n",
              "      <td>0</td>\n",
              "      <td>0</td>\n",
              "      <td>1</td>\n",
              "      <td>0</td>\n",
              "      <td>0</td>\n",
              "      <td>0</td>\n",
              "      <td>0</td>\n",
              "      <td>0</td>\n",
              "      <td>0</td>\n",
              "      <td>0</td>\n",
              "      <td>0</td>\n",
              "      <td>0</td>\n",
              "      <td>0</td>\n",
              "      <td>0</td>\n",
              "      <td>0</td>\n",
              "      <td>0</td>\n",
              "      <td>0</td>\n",
              "      <td>0</td>\n",
              "      <td>0</td>\n",
              "      <td>0</td>\n",
              "      <td>0</td>\n",
              "      <td>0</td>\n",
              "      <td>0</td>\n",
              "      <td>0</td>\n",
              "      <td>0</td>\n",
              "      <td>41505</td>\n",
              "      <td>California</td>\n",
              "      <td>2019-03-14</td>\n",
              "    </tr>\n",
              "    <tr>\n",
              "      <th>2</th>\n",
              "      <td>0</td>\n",
              "      <td>0</td>\n",
              "      <td>0</td>\n",
              "      <td>0</td>\n",
              "      <td>0</td>\n",
              "      <td>0</td>\n",
              "      <td>0</td>\n",
              "      <td>0</td>\n",
              "      <td>0</td>\n",
              "      <td>0</td>\n",
              "      <td>0</td>\n",
              "      <td>0</td>\n",
              "      <td>1</td>\n",
              "      <td>0</td>\n",
              "      <td>0</td>\n",
              "      <td>0</td>\n",
              "      <td>0</td>\n",
              "      <td>0</td>\n",
              "      <td>0</td>\n",
              "      <td>0</td>\n",
              "      <td>0</td>\n",
              "      <td>0</td>\n",
              "      <td>0</td>\n",
              "      <td>0</td>\n",
              "      <td>0</td>\n",
              "      <td>0</td>\n",
              "      <td>0</td>\n",
              "      <td>0</td>\n",
              "      <td>0</td>\n",
              "      <td>0</td>\n",
              "      <td>0</td>\n",
              "      <td>0</td>\n",
              "      <td>0</td>\n",
              "      <td>1</td>\n",
              "      <td>0</td>\n",
              "      <td>0</td>\n",
              "      <td>0</td>\n",
              "      <td>0</td>\n",
              "      <td>0</td>\n",
              "      <td>0</td>\n",
              "      <td>0</td>\n",
              "      <td>0</td>\n",
              "      <td>0</td>\n",
              "      <td>0</td>\n",
              "      <td>0</td>\n",
              "      <td>0</td>\n",
              "      <td>0</td>\n",
              "      <td>0</td>\n",
              "      <td>0</td>\n",
              "      <td>1</td>\n",
              "      <td>0</td>\n",
              "      <td>0</td>\n",
              "      <td>0</td>\n",
              "      <td>0</td>\n",
              "      <td>0</td>\n",
              "      <td>0</td>\n",
              "      <td>0</td>\n",
              "      <td>0</td>\n",
              "      <td>0</td>\n",
              "      <td>0</td>\n",
              "      <td>0</td>\n",
              "      <td>0</td>\n",
              "      <td>0</td>\n",
              "      <td>0</td>\n",
              "      <td>0</td>\n",
              "      <td>0</td>\n",
              "      <td>0</td>\n",
              "      <td>0</td>\n",
              "      <td>0</td>\n",
              "      <td>0</td>\n",
              "      <td>0</td>\n",
              "      <td>0</td>\n",
              "      <td>0</td>\n",
              "      <td>58890</td>\n",
              "      <td>California</td>\n",
              "      <td>2019-06-12</td>\n",
              "    </tr>\n",
              "    <tr>\n",
              "      <th>3</th>\n",
              "      <td>0</td>\n",
              "      <td>0</td>\n",
              "      <td>0</td>\n",
              "      <td>0</td>\n",
              "      <td>0</td>\n",
              "      <td>0</td>\n",
              "      <td>0</td>\n",
              "      <td>0</td>\n",
              "      <td>0</td>\n",
              "      <td>0</td>\n",
              "      <td>0</td>\n",
              "      <td>0</td>\n",
              "      <td>1</td>\n",
              "      <td>0</td>\n",
              "      <td>0</td>\n",
              "      <td>0</td>\n",
              "      <td>0</td>\n",
              "      <td>0</td>\n",
              "      <td>0</td>\n",
              "      <td>0</td>\n",
              "      <td>0</td>\n",
              "      <td>0</td>\n",
              "      <td>0</td>\n",
              "      <td>0</td>\n",
              "      <td>0</td>\n",
              "      <td>0</td>\n",
              "      <td>0</td>\n",
              "      <td>0</td>\n",
              "      <td>0</td>\n",
              "      <td>0</td>\n",
              "      <td>0</td>\n",
              "      <td>0</td>\n",
              "      <td>0</td>\n",
              "      <td>0</td>\n",
              "      <td>0</td>\n",
              "      <td>0</td>\n",
              "      <td>0</td>\n",
              "      <td>0</td>\n",
              "      <td>0</td>\n",
              "      <td>0</td>\n",
              "      <td>0</td>\n",
              "      <td>0</td>\n",
              "      <td>0</td>\n",
              "      <td>0</td>\n",
              "      <td>0</td>\n",
              "      <td>0</td>\n",
              "      <td>0</td>\n",
              "      <td>0</td>\n",
              "      <td>0</td>\n",
              "      <td>0</td>\n",
              "      <td>1</td>\n",
              "      <td>0</td>\n",
              "      <td>0</td>\n",
              "      <td>0</td>\n",
              "      <td>0</td>\n",
              "      <td>0</td>\n",
              "      <td>0</td>\n",
              "      <td>0</td>\n",
              "      <td>0</td>\n",
              "      <td>0</td>\n",
              "      <td>0</td>\n",
              "      <td>0</td>\n",
              "      <td>0</td>\n",
              "      <td>0</td>\n",
              "      <td>0</td>\n",
              "      <td>0</td>\n",
              "      <td>0</td>\n",
              "      <td>0</td>\n",
              "      <td>0</td>\n",
              "      <td>0</td>\n",
              "      <td>0</td>\n",
              "      <td>0</td>\n",
              "      <td>0</td>\n",
              "      <td>51055</td>\n",
              "      <td>California</td>\n",
              "      <td>2019-03-04</td>\n",
              "    </tr>\n",
              "    <tr>\n",
              "      <th>4</th>\n",
              "      <td>0</td>\n",
              "      <td>0</td>\n",
              "      <td>0</td>\n",
              "      <td>0</td>\n",
              "      <td>0</td>\n",
              "      <td>0</td>\n",
              "      <td>0</td>\n",
              "      <td>0</td>\n",
              "      <td>0</td>\n",
              "      <td>0</td>\n",
              "      <td>0</td>\n",
              "      <td>0</td>\n",
              "      <td>0</td>\n",
              "      <td>1</td>\n",
              "      <td>0</td>\n",
              "      <td>0</td>\n",
              "      <td>0</td>\n",
              "      <td>0</td>\n",
              "      <td>0</td>\n",
              "      <td>0</td>\n",
              "      <td>0</td>\n",
              "      <td>0</td>\n",
              "      <td>0</td>\n",
              "      <td>0</td>\n",
              "      <td>0</td>\n",
              "      <td>0</td>\n",
              "      <td>0</td>\n",
              "      <td>0</td>\n",
              "      <td>0</td>\n",
              "      <td>0</td>\n",
              "      <td>0</td>\n",
              "      <td>0</td>\n",
              "      <td>0</td>\n",
              "      <td>1</td>\n",
              "      <td>0</td>\n",
              "      <td>0</td>\n",
              "      <td>0</td>\n",
              "      <td>0</td>\n",
              "      <td>0</td>\n",
              "      <td>0</td>\n",
              "      <td>0</td>\n",
              "      <td>0</td>\n",
              "      <td>0</td>\n",
              "      <td>0</td>\n",
              "      <td>0</td>\n",
              "      <td>0</td>\n",
              "      <td>0</td>\n",
              "      <td>0</td>\n",
              "      <td>0</td>\n",
              "      <td>0</td>\n",
              "      <td>0</td>\n",
              "      <td>0</td>\n",
              "      <td>0</td>\n",
              "      <td>1</td>\n",
              "      <td>0</td>\n",
              "      <td>0</td>\n",
              "      <td>0</td>\n",
              "      <td>0</td>\n",
              "      <td>0</td>\n",
              "      <td>0</td>\n",
              "      <td>0</td>\n",
              "      <td>0</td>\n",
              "      <td>0</td>\n",
              "      <td>0</td>\n",
              "      <td>0</td>\n",
              "      <td>0</td>\n",
              "      <td>0</td>\n",
              "      <td>0</td>\n",
              "      <td>0</td>\n",
              "      <td>0</td>\n",
              "      <td>0</td>\n",
              "      <td>0</td>\n",
              "      <td>0</td>\n",
              "      <td>70830</td>\n",
              "      <td>California</td>\n",
              "      <td>2019-01-23</td>\n",
              "    </tr>\n",
              "  </tbody>\n",
              "</table>\n",
              "</div>"
            ],
            "text/plain": [
              "   main_S60_1  main_S60_2  main_type_SP100D  ...   MSRP  dealer_state        date\n",
              "0           0           0                 0  ...  44610    California  2019-04-28\n",
              "1           0           0                 0  ...  41505    California  2019-03-14\n",
              "2           0           0                 0  ...  58890    California  2019-06-12\n",
              "3           0           0                 0  ...  51055    California  2019-03-04\n",
              "4           0           0                 0  ...  70830    California  2019-01-23\n",
              "\n",
              "[5 rows x 76 columns]"
            ]
          },
          "metadata": {
            "tags": []
          },
          "execution_count": 5
        }
      ]
    },
    {
      "cell_type": "markdown",
      "metadata": {
        "id": "dF7w0UQndnM_"
      },
      "source": [
        "### Begin cleaning the data\n",
        "\n",
        "Eliminate the `'dealer_state'` and `'date'` columns. The former is useless to our model, since we already know that our dataset is restricted to California sales. While we could possibly extract useful information from the `'date'` column (for example, to determine whether more cars are sold on weekends than weekdays), we'll be focusing on car configurations in this exercise."
      ]
    },
    {
      "cell_type": "code",
      "metadata": {
        "id": "i-DThsrHdnNA",
        "colab": {
          "base_uri": "https://localhost:8080/",
          "height": 217
        },
        "outputId": "e2436f2a-1d46-4149-9179-e32989d2041a"
      },
      "source": [
        "df_sales = df_sales.drop(columns=['dealer_state','date'])\n",
        "df_sales.head()"
      ],
      "execution_count": null,
      "outputs": [
        {
          "output_type": "execute_result",
          "data": {
            "text/html": [
              "<div>\n",
              "<style scoped>\n",
              "    .dataframe tbody tr th:only-of-type {\n",
              "        vertical-align: middle;\n",
              "    }\n",
              "\n",
              "    .dataframe tbody tr th {\n",
              "        vertical-align: top;\n",
              "    }\n",
              "\n",
              "    .dataframe thead th {\n",
              "        text-align: right;\n",
              "    }\n",
              "</style>\n",
              "<table border=\"1\" class=\"dataframe\">\n",
              "  <thead>\n",
              "    <tr style=\"text-align: right;\">\n",
              "      <th></th>\n",
              "      <th>main_S60_1</th>\n",
              "      <th>main_S60_2</th>\n",
              "      <th>main_type_SP100D</th>\n",
              "      <th>main_type_S60D_1</th>\n",
              "      <th>main_type_S60D_2</th>\n",
              "      <th>main_type_S70</th>\n",
              "      <th>main_type_S70D</th>\n",
              "      <th>main_type_S75</th>\n",
              "      <th>main_type_S75D</th>\n",
              "      <th>main_type_S80</th>\n",
              "      <th>main_type_S80D</th>\n",
              "      <th>main_type_S85</th>\n",
              "      <th>main_type_S85P</th>\n",
              "      <th>main_type_P85D</th>\n",
              "      <th>main_type_S90</th>\n",
              "      <th>main_type_S90D</th>\n",
              "      <th>main_type_S100D</th>\n",
              "      <th>engine_A</th>\n",
              "      <th>engine_B</th>\n",
              "      <th>engine_C</th>\n",
              "      <th>engine_D</th>\n",
              "      <th>engine_E</th>\n",
              "      <th>engine_F</th>\n",
              "      <th>engine_G</th>\n",
              "      <th>engine_H</th>\n",
              "      <th>engine_I</th>\n",
              "      <th>engine_J</th>\n",
              "      <th>engine_K</th>\n",
              "      <th>engine_L</th>\n",
              "      <th>engine_M</th>\n",
              "      <th>engine_N</th>\n",
              "      <th>engine_O</th>\n",
              "      <th>engine_P</th>\n",
              "      <th>engine_Q</th>\n",
              "      <th>engine_R</th>\n",
              "      <th>engine_S</th>\n",
              "      <th>engine_T</th>\n",
              "      <th>engine_U</th>\n",
              "      <th>engine_V</th>\n",
              "      <th>engine_W</th>\n",
              "      <th>engine_X</th>\n",
              "      <th>engine_Y</th>\n",
              "      <th>engine_Z</th>\n",
              "      <th>sales_1</th>\n",
              "      <th>sales_2</th>\n",
              "      <th>sales_3</th>\n",
              "      <th>sales_4</th>\n",
              "      <th>sales_5</th>\n",
              "      <th>sales_6</th>\n",
              "      <th>sales_7</th>\n",
              "      <th>sales_8</th>\n",
              "      <th>sales_9</th>\n",
              "      <th>sales_10</th>\n",
              "      <th>sales_11</th>\n",
              "      <th>sales_12</th>\n",
              "      <th>sales_13</th>\n",
              "      <th>sales_14</th>\n",
              "      <th>sales_15</th>\n",
              "      <th>sales_16</th>\n",
              "      <th>sales_17</th>\n",
              "      <th>sales_18</th>\n",
              "      <th>sales_19</th>\n",
              "      <th>sales_20</th>\n",
              "      <th>sales_21</th>\n",
              "      <th>sales_22</th>\n",
              "      <th>sales_23</th>\n",
              "      <th>sales_24</th>\n",
              "      <th>sales_25</th>\n",
              "      <th>sales_26</th>\n",
              "      <th>sales_27</th>\n",
              "      <th>sales_28</th>\n",
              "      <th>sales_29</th>\n",
              "      <th>sales_30</th>\n",
              "      <th>MSRP</th>\n",
              "    </tr>\n",
              "  </thead>\n",
              "  <tbody>\n",
              "    <tr>\n",
              "      <th>0</th>\n",
              "      <td>0</td>\n",
              "      <td>0</td>\n",
              "      <td>0</td>\n",
              "      <td>0</td>\n",
              "      <td>0</td>\n",
              "      <td>1</td>\n",
              "      <td>0</td>\n",
              "      <td>0</td>\n",
              "      <td>0</td>\n",
              "      <td>0</td>\n",
              "      <td>0</td>\n",
              "      <td>0</td>\n",
              "      <td>0</td>\n",
              "      <td>0</td>\n",
              "      <td>0</td>\n",
              "      <td>0</td>\n",
              "      <td>0</td>\n",
              "      <td>0</td>\n",
              "      <td>0</td>\n",
              "      <td>0</td>\n",
              "      <td>0</td>\n",
              "      <td>0</td>\n",
              "      <td>0</td>\n",
              "      <td>0</td>\n",
              "      <td>0</td>\n",
              "      <td>0</td>\n",
              "      <td>0</td>\n",
              "      <td>0</td>\n",
              "      <td>0</td>\n",
              "      <td>0</td>\n",
              "      <td>0</td>\n",
              "      <td>0</td>\n",
              "      <td>0</td>\n",
              "      <td>0</td>\n",
              "      <td>0</td>\n",
              "      <td>0</td>\n",
              "      <td>0</td>\n",
              "      <td>0</td>\n",
              "      <td>0</td>\n",
              "      <td>0</td>\n",
              "      <td>0</td>\n",
              "      <td>0</td>\n",
              "      <td>0</td>\n",
              "      <td>0</td>\n",
              "      <td>0</td>\n",
              "      <td>0</td>\n",
              "      <td>0</td>\n",
              "      <td>0</td>\n",
              "      <td>0</td>\n",
              "      <td>0</td>\n",
              "      <td>1</td>\n",
              "      <td>0</td>\n",
              "      <td>0</td>\n",
              "      <td>0</td>\n",
              "      <td>0</td>\n",
              "      <td>0</td>\n",
              "      <td>0</td>\n",
              "      <td>0</td>\n",
              "      <td>0</td>\n",
              "      <td>0</td>\n",
              "      <td>0</td>\n",
              "      <td>0</td>\n",
              "      <td>0</td>\n",
              "      <td>0</td>\n",
              "      <td>0</td>\n",
              "      <td>0</td>\n",
              "      <td>0</td>\n",
              "      <td>0</td>\n",
              "      <td>0</td>\n",
              "      <td>0</td>\n",
              "      <td>0</td>\n",
              "      <td>0</td>\n",
              "      <td>0</td>\n",
              "      <td>44610</td>\n",
              "    </tr>\n",
              "    <tr>\n",
              "      <th>1</th>\n",
              "      <td>0</td>\n",
              "      <td>0</td>\n",
              "      <td>0</td>\n",
              "      <td>0</td>\n",
              "      <td>0</td>\n",
              "      <td>0</td>\n",
              "      <td>0</td>\n",
              "      <td>0</td>\n",
              "      <td>0</td>\n",
              "      <td>0</td>\n",
              "      <td>0</td>\n",
              "      <td>0</td>\n",
              "      <td>0</td>\n",
              "      <td>0</td>\n",
              "      <td>0</td>\n",
              "      <td>0</td>\n",
              "      <td>1</td>\n",
              "      <td>1</td>\n",
              "      <td>0</td>\n",
              "      <td>0</td>\n",
              "      <td>0</td>\n",
              "      <td>0</td>\n",
              "      <td>0</td>\n",
              "      <td>0</td>\n",
              "      <td>0</td>\n",
              "      <td>0</td>\n",
              "      <td>0</td>\n",
              "      <td>0</td>\n",
              "      <td>0</td>\n",
              "      <td>0</td>\n",
              "      <td>0</td>\n",
              "      <td>0</td>\n",
              "      <td>0</td>\n",
              "      <td>0</td>\n",
              "      <td>0</td>\n",
              "      <td>0</td>\n",
              "      <td>0</td>\n",
              "      <td>0</td>\n",
              "      <td>0</td>\n",
              "      <td>0</td>\n",
              "      <td>0</td>\n",
              "      <td>0</td>\n",
              "      <td>0</td>\n",
              "      <td>0</td>\n",
              "      <td>0</td>\n",
              "      <td>0</td>\n",
              "      <td>0</td>\n",
              "      <td>0</td>\n",
              "      <td>0</td>\n",
              "      <td>0</td>\n",
              "      <td>1</td>\n",
              "      <td>0</td>\n",
              "      <td>0</td>\n",
              "      <td>0</td>\n",
              "      <td>0</td>\n",
              "      <td>0</td>\n",
              "      <td>0</td>\n",
              "      <td>0</td>\n",
              "      <td>0</td>\n",
              "      <td>0</td>\n",
              "      <td>0</td>\n",
              "      <td>0</td>\n",
              "      <td>0</td>\n",
              "      <td>0</td>\n",
              "      <td>0</td>\n",
              "      <td>0</td>\n",
              "      <td>0</td>\n",
              "      <td>0</td>\n",
              "      <td>0</td>\n",
              "      <td>0</td>\n",
              "      <td>0</td>\n",
              "      <td>0</td>\n",
              "      <td>0</td>\n",
              "      <td>41505</td>\n",
              "    </tr>\n",
              "    <tr>\n",
              "      <th>2</th>\n",
              "      <td>0</td>\n",
              "      <td>0</td>\n",
              "      <td>0</td>\n",
              "      <td>0</td>\n",
              "      <td>0</td>\n",
              "      <td>0</td>\n",
              "      <td>0</td>\n",
              "      <td>0</td>\n",
              "      <td>0</td>\n",
              "      <td>0</td>\n",
              "      <td>0</td>\n",
              "      <td>0</td>\n",
              "      <td>1</td>\n",
              "      <td>0</td>\n",
              "      <td>0</td>\n",
              "      <td>0</td>\n",
              "      <td>0</td>\n",
              "      <td>0</td>\n",
              "      <td>0</td>\n",
              "      <td>0</td>\n",
              "      <td>0</td>\n",
              "      <td>0</td>\n",
              "      <td>0</td>\n",
              "      <td>0</td>\n",
              "      <td>0</td>\n",
              "      <td>0</td>\n",
              "      <td>0</td>\n",
              "      <td>0</td>\n",
              "      <td>0</td>\n",
              "      <td>0</td>\n",
              "      <td>0</td>\n",
              "      <td>0</td>\n",
              "      <td>0</td>\n",
              "      <td>1</td>\n",
              "      <td>0</td>\n",
              "      <td>0</td>\n",
              "      <td>0</td>\n",
              "      <td>0</td>\n",
              "      <td>0</td>\n",
              "      <td>0</td>\n",
              "      <td>0</td>\n",
              "      <td>0</td>\n",
              "      <td>0</td>\n",
              "      <td>0</td>\n",
              "      <td>0</td>\n",
              "      <td>0</td>\n",
              "      <td>0</td>\n",
              "      <td>0</td>\n",
              "      <td>0</td>\n",
              "      <td>1</td>\n",
              "      <td>0</td>\n",
              "      <td>0</td>\n",
              "      <td>0</td>\n",
              "      <td>0</td>\n",
              "      <td>0</td>\n",
              "      <td>0</td>\n",
              "      <td>0</td>\n",
              "      <td>0</td>\n",
              "      <td>0</td>\n",
              "      <td>0</td>\n",
              "      <td>0</td>\n",
              "      <td>0</td>\n",
              "      <td>0</td>\n",
              "      <td>0</td>\n",
              "      <td>0</td>\n",
              "      <td>0</td>\n",
              "      <td>0</td>\n",
              "      <td>0</td>\n",
              "      <td>0</td>\n",
              "      <td>0</td>\n",
              "      <td>0</td>\n",
              "      <td>0</td>\n",
              "      <td>0</td>\n",
              "      <td>58890</td>\n",
              "    </tr>\n",
              "    <tr>\n",
              "      <th>3</th>\n",
              "      <td>0</td>\n",
              "      <td>0</td>\n",
              "      <td>0</td>\n",
              "      <td>0</td>\n",
              "      <td>0</td>\n",
              "      <td>0</td>\n",
              "      <td>0</td>\n",
              "      <td>0</td>\n",
              "      <td>0</td>\n",
              "      <td>0</td>\n",
              "      <td>0</td>\n",
              "      <td>0</td>\n",
              "      <td>1</td>\n",
              "      <td>0</td>\n",
              "      <td>0</td>\n",
              "      <td>0</td>\n",
              "      <td>0</td>\n",
              "      <td>0</td>\n",
              "      <td>0</td>\n",
              "      <td>0</td>\n",
              "      <td>0</td>\n",
              "      <td>0</td>\n",
              "      <td>0</td>\n",
              "      <td>0</td>\n",
              "      <td>0</td>\n",
              "      <td>0</td>\n",
              "      <td>0</td>\n",
              "      <td>0</td>\n",
              "      <td>0</td>\n",
              "      <td>0</td>\n",
              "      <td>0</td>\n",
              "      <td>0</td>\n",
              "      <td>0</td>\n",
              "      <td>0</td>\n",
              "      <td>0</td>\n",
              "      <td>0</td>\n",
              "      <td>0</td>\n",
              "      <td>0</td>\n",
              "      <td>0</td>\n",
              "      <td>0</td>\n",
              "      <td>0</td>\n",
              "      <td>0</td>\n",
              "      <td>0</td>\n",
              "      <td>0</td>\n",
              "      <td>0</td>\n",
              "      <td>0</td>\n",
              "      <td>0</td>\n",
              "      <td>0</td>\n",
              "      <td>0</td>\n",
              "      <td>0</td>\n",
              "      <td>1</td>\n",
              "      <td>0</td>\n",
              "      <td>0</td>\n",
              "      <td>0</td>\n",
              "      <td>0</td>\n",
              "      <td>0</td>\n",
              "      <td>0</td>\n",
              "      <td>0</td>\n",
              "      <td>0</td>\n",
              "      <td>0</td>\n",
              "      <td>0</td>\n",
              "      <td>0</td>\n",
              "      <td>0</td>\n",
              "      <td>0</td>\n",
              "      <td>0</td>\n",
              "      <td>0</td>\n",
              "      <td>0</td>\n",
              "      <td>0</td>\n",
              "      <td>0</td>\n",
              "      <td>0</td>\n",
              "      <td>0</td>\n",
              "      <td>0</td>\n",
              "      <td>0</td>\n",
              "      <td>51055</td>\n",
              "    </tr>\n",
              "    <tr>\n",
              "      <th>4</th>\n",
              "      <td>0</td>\n",
              "      <td>0</td>\n",
              "      <td>0</td>\n",
              "      <td>0</td>\n",
              "      <td>0</td>\n",
              "      <td>0</td>\n",
              "      <td>0</td>\n",
              "      <td>0</td>\n",
              "      <td>0</td>\n",
              "      <td>0</td>\n",
              "      <td>0</td>\n",
              "      <td>0</td>\n",
              "      <td>0</td>\n",
              "      <td>1</td>\n",
              "      <td>0</td>\n",
              "      <td>0</td>\n",
              "      <td>0</td>\n",
              "      <td>0</td>\n",
              "      <td>0</td>\n",
              "      <td>0</td>\n",
              "      <td>0</td>\n",
              "      <td>0</td>\n",
              "      <td>0</td>\n",
              "      <td>0</td>\n",
              "      <td>0</td>\n",
              "      <td>0</td>\n",
              "      <td>0</td>\n",
              "      <td>0</td>\n",
              "      <td>0</td>\n",
              "      <td>0</td>\n",
              "      <td>0</td>\n",
              "      <td>0</td>\n",
              "      <td>0</td>\n",
              "      <td>1</td>\n",
              "      <td>0</td>\n",
              "      <td>0</td>\n",
              "      <td>0</td>\n",
              "      <td>0</td>\n",
              "      <td>0</td>\n",
              "      <td>0</td>\n",
              "      <td>0</td>\n",
              "      <td>0</td>\n",
              "      <td>0</td>\n",
              "      <td>0</td>\n",
              "      <td>0</td>\n",
              "      <td>0</td>\n",
              "      <td>0</td>\n",
              "      <td>0</td>\n",
              "      <td>0</td>\n",
              "      <td>0</td>\n",
              "      <td>0</td>\n",
              "      <td>0</td>\n",
              "      <td>0</td>\n",
              "      <td>1</td>\n",
              "      <td>0</td>\n",
              "      <td>0</td>\n",
              "      <td>0</td>\n",
              "      <td>0</td>\n",
              "      <td>0</td>\n",
              "      <td>0</td>\n",
              "      <td>0</td>\n",
              "      <td>0</td>\n",
              "      <td>0</td>\n",
              "      <td>0</td>\n",
              "      <td>0</td>\n",
              "      <td>0</td>\n",
              "      <td>0</td>\n",
              "      <td>0</td>\n",
              "      <td>0</td>\n",
              "      <td>0</td>\n",
              "      <td>0</td>\n",
              "      <td>0</td>\n",
              "      <td>0</td>\n",
              "      <td>70830</td>\n",
              "    </tr>\n",
              "  </tbody>\n",
              "</table>\n",
              "</div>"
            ],
            "text/plain": [
              "   main_S60_1  main_S60_2  main_type_SP100D  ...  sales_29  sales_30   MSRP\n",
              "0           0           0                 0  ...         0         0  44610\n",
              "1           0           0                 0  ...         0         0  41505\n",
              "2           0           0                 0  ...         0         0  58890\n",
              "3           0           0                 0  ...         0         0  51055\n",
              "4           0           0                 0  ...         0         0  70830\n",
              "\n",
              "[5 rows x 74 columns]"
            ]
          },
          "metadata": {
            "tags": []
          },
          "execution_count": 6
        }
      ]
    },
    {
      "cell_type": "markdown",
      "metadata": {
        "id": "qqdkmnCodnNC"
      },
      "source": [
        "### Read in the CSV file containing the California sales data for Quarters 3 and 4\n",
        "\n",
        "The `'dealer_state'` and `'date'` columns have already been eliminated in this dataset, so you don't need to worry about them here. Examine the data's shape and first few rows."
      ]
    },
    {
      "cell_type": "code",
      "metadata": {
        "id": "bJpTgHxAdnND",
        "colab": {
          "base_uri": "https://localhost:8080/",
          "height": 235
        },
        "outputId": "bc9b9051-6702-40bc-ae73-a356eaf0bd30"
      },
      "source": [
        "### START CODE HERE ###\n",
        "# Read in the Q34 data\n",
        "df_pred = pd.read_csv(\"sales_Q34_2019.csv\")\n",
        "# Print the shape of the data\n",
        "print(np.shape(df_pred))\n",
        "# Examine the first few rows of the data\n",
        "df_pred.head()\n",
        "### END CODE HERE ###"
      ],
      "execution_count": null,
      "outputs": [
        {
          "output_type": "stream",
          "text": [
            "(6666, 74)\n"
          ],
          "name": "stdout"
        },
        {
          "output_type": "execute_result",
          "data": {
            "text/html": [
              "<div>\n",
              "<style scoped>\n",
              "    .dataframe tbody tr th:only-of-type {\n",
              "        vertical-align: middle;\n",
              "    }\n",
              "\n",
              "    .dataframe tbody tr th {\n",
              "        vertical-align: top;\n",
              "    }\n",
              "\n",
              "    .dataframe thead th {\n",
              "        text-align: right;\n",
              "    }\n",
              "</style>\n",
              "<table border=\"1\" class=\"dataframe\">\n",
              "  <thead>\n",
              "    <tr style=\"text-align: right;\">\n",
              "      <th></th>\n",
              "      <th>main_S60_1</th>\n",
              "      <th>main_S60_2</th>\n",
              "      <th>main_type_SP100D</th>\n",
              "      <th>main_type_S60D_1</th>\n",
              "      <th>main_type_S60D_2</th>\n",
              "      <th>main_type_S70</th>\n",
              "      <th>main_type_S70D</th>\n",
              "      <th>main_type_S75</th>\n",
              "      <th>main_type_S75D</th>\n",
              "      <th>main_type_S80</th>\n",
              "      <th>main_type_S80D</th>\n",
              "      <th>main_type_S85</th>\n",
              "      <th>main_type_S85P</th>\n",
              "      <th>main_type_P85D</th>\n",
              "      <th>main_type_S90</th>\n",
              "      <th>main_type_S90D</th>\n",
              "      <th>main_type_S100D</th>\n",
              "      <th>engine_A</th>\n",
              "      <th>engine_B</th>\n",
              "      <th>engine_C</th>\n",
              "      <th>engine_D</th>\n",
              "      <th>engine_E</th>\n",
              "      <th>engine_F</th>\n",
              "      <th>engine_G</th>\n",
              "      <th>engine_H</th>\n",
              "      <th>engine_I</th>\n",
              "      <th>engine_J</th>\n",
              "      <th>engine_K</th>\n",
              "      <th>engine_L</th>\n",
              "      <th>engine_M</th>\n",
              "      <th>engine_N</th>\n",
              "      <th>engine_O</th>\n",
              "      <th>engine_P</th>\n",
              "      <th>engine_Q</th>\n",
              "      <th>engine_R</th>\n",
              "      <th>engine_S</th>\n",
              "      <th>engine_T</th>\n",
              "      <th>engine_U</th>\n",
              "      <th>engine_V</th>\n",
              "      <th>engine_W</th>\n",
              "      <th>engine_X</th>\n",
              "      <th>engine_Y</th>\n",
              "      <th>engine_Z</th>\n",
              "      <th>sales_1</th>\n",
              "      <th>sales_2</th>\n",
              "      <th>sales_3</th>\n",
              "      <th>sales_4</th>\n",
              "      <th>sales_5</th>\n",
              "      <th>sales_6</th>\n",
              "      <th>sales_7</th>\n",
              "      <th>sales_8</th>\n",
              "      <th>sales_9</th>\n",
              "      <th>sales_10</th>\n",
              "      <th>sales_11</th>\n",
              "      <th>sales_12</th>\n",
              "      <th>sales_13</th>\n",
              "      <th>sales_14</th>\n",
              "      <th>sales_15</th>\n",
              "      <th>sales_16</th>\n",
              "      <th>sales_17</th>\n",
              "      <th>sales_18</th>\n",
              "      <th>sales_19</th>\n",
              "      <th>sales_20</th>\n",
              "      <th>sales_21</th>\n",
              "      <th>sales_22</th>\n",
              "      <th>sales_23</th>\n",
              "      <th>sales_24</th>\n",
              "      <th>sales_25</th>\n",
              "      <th>sales_26</th>\n",
              "      <th>sales_27</th>\n",
              "      <th>sales_28</th>\n",
              "      <th>sales_29</th>\n",
              "      <th>sales_30</th>\n",
              "      <th>MSRP</th>\n",
              "    </tr>\n",
              "  </thead>\n",
              "  <tbody>\n",
              "    <tr>\n",
              "      <th>0</th>\n",
              "      <td>0</td>\n",
              "      <td>0</td>\n",
              "      <td>0</td>\n",
              "      <td>0</td>\n",
              "      <td>0</td>\n",
              "      <td>1</td>\n",
              "      <td>0</td>\n",
              "      <td>0</td>\n",
              "      <td>0</td>\n",
              "      <td>0</td>\n",
              "      <td>0</td>\n",
              "      <td>0</td>\n",
              "      <td>0</td>\n",
              "      <td>0</td>\n",
              "      <td>0</td>\n",
              "      <td>0</td>\n",
              "      <td>0</td>\n",
              "      <td>0</td>\n",
              "      <td>0</td>\n",
              "      <td>0</td>\n",
              "      <td>0</td>\n",
              "      <td>0</td>\n",
              "      <td>0</td>\n",
              "      <td>0</td>\n",
              "      <td>0</td>\n",
              "      <td>0</td>\n",
              "      <td>0</td>\n",
              "      <td>0</td>\n",
              "      <td>0</td>\n",
              "      <td>0</td>\n",
              "      <td>0</td>\n",
              "      <td>0</td>\n",
              "      <td>0</td>\n",
              "      <td>1</td>\n",
              "      <td>0</td>\n",
              "      <td>0</td>\n",
              "      <td>0</td>\n",
              "      <td>0</td>\n",
              "      <td>0</td>\n",
              "      <td>0</td>\n",
              "      <td>0</td>\n",
              "      <td>0</td>\n",
              "      <td>0</td>\n",
              "      <td>0</td>\n",
              "      <td>0</td>\n",
              "      <td>0</td>\n",
              "      <td>0</td>\n",
              "      <td>0</td>\n",
              "      <td>0</td>\n",
              "      <td>0</td>\n",
              "      <td>0</td>\n",
              "      <td>0</td>\n",
              "      <td>0</td>\n",
              "      <td>0</td>\n",
              "      <td>0</td>\n",
              "      <td>0</td>\n",
              "      <td>0</td>\n",
              "      <td>0</td>\n",
              "      <td>0</td>\n",
              "      <td>0</td>\n",
              "      <td>0</td>\n",
              "      <td>0</td>\n",
              "      <td>0</td>\n",
              "      <td>0</td>\n",
              "      <td>0</td>\n",
              "      <td>0</td>\n",
              "      <td>1</td>\n",
              "      <td>0</td>\n",
              "      <td>0</td>\n",
              "      <td>0</td>\n",
              "      <td>0</td>\n",
              "      <td>0</td>\n",
              "      <td>0</td>\n",
              "      <td>51355</td>\n",
              "    </tr>\n",
              "    <tr>\n",
              "      <th>1</th>\n",
              "      <td>0</td>\n",
              "      <td>0</td>\n",
              "      <td>0</td>\n",
              "      <td>0</td>\n",
              "      <td>0</td>\n",
              "      <td>0</td>\n",
              "      <td>0</td>\n",
              "      <td>0</td>\n",
              "      <td>0</td>\n",
              "      <td>0</td>\n",
              "      <td>0</td>\n",
              "      <td>0</td>\n",
              "      <td>0</td>\n",
              "      <td>1</td>\n",
              "      <td>0</td>\n",
              "      <td>0</td>\n",
              "      <td>0</td>\n",
              "      <td>0</td>\n",
              "      <td>0</td>\n",
              "      <td>0</td>\n",
              "      <td>0</td>\n",
              "      <td>0</td>\n",
              "      <td>0</td>\n",
              "      <td>0</td>\n",
              "      <td>0</td>\n",
              "      <td>0</td>\n",
              "      <td>0</td>\n",
              "      <td>0</td>\n",
              "      <td>0</td>\n",
              "      <td>0</td>\n",
              "      <td>0</td>\n",
              "      <td>0</td>\n",
              "      <td>0</td>\n",
              "      <td>1</td>\n",
              "      <td>0</td>\n",
              "      <td>0</td>\n",
              "      <td>0</td>\n",
              "      <td>0</td>\n",
              "      <td>0</td>\n",
              "      <td>0</td>\n",
              "      <td>0</td>\n",
              "      <td>0</td>\n",
              "      <td>0</td>\n",
              "      <td>0</td>\n",
              "      <td>0</td>\n",
              "      <td>0</td>\n",
              "      <td>0</td>\n",
              "      <td>0</td>\n",
              "      <td>0</td>\n",
              "      <td>0</td>\n",
              "      <td>0</td>\n",
              "      <td>0</td>\n",
              "      <td>0</td>\n",
              "      <td>1</td>\n",
              "      <td>0</td>\n",
              "      <td>0</td>\n",
              "      <td>0</td>\n",
              "      <td>0</td>\n",
              "      <td>0</td>\n",
              "      <td>0</td>\n",
              "      <td>0</td>\n",
              "      <td>0</td>\n",
              "      <td>0</td>\n",
              "      <td>0</td>\n",
              "      <td>0</td>\n",
              "      <td>0</td>\n",
              "      <td>0</td>\n",
              "      <td>0</td>\n",
              "      <td>0</td>\n",
              "      <td>0</td>\n",
              "      <td>0</td>\n",
              "      <td>0</td>\n",
              "      <td>0</td>\n",
              "      <td>71580</td>\n",
              "    </tr>\n",
              "    <tr>\n",
              "      <th>2</th>\n",
              "      <td>0</td>\n",
              "      <td>0</td>\n",
              "      <td>0</td>\n",
              "      <td>0</td>\n",
              "      <td>0</td>\n",
              "      <td>0</td>\n",
              "      <td>0</td>\n",
              "      <td>0</td>\n",
              "      <td>0</td>\n",
              "      <td>0</td>\n",
              "      <td>0</td>\n",
              "      <td>0</td>\n",
              "      <td>0</td>\n",
              "      <td>1</td>\n",
              "      <td>0</td>\n",
              "      <td>0</td>\n",
              "      <td>0</td>\n",
              "      <td>0</td>\n",
              "      <td>0</td>\n",
              "      <td>0</td>\n",
              "      <td>0</td>\n",
              "      <td>0</td>\n",
              "      <td>0</td>\n",
              "      <td>0</td>\n",
              "      <td>0</td>\n",
              "      <td>0</td>\n",
              "      <td>0</td>\n",
              "      <td>0</td>\n",
              "      <td>0</td>\n",
              "      <td>0</td>\n",
              "      <td>0</td>\n",
              "      <td>0</td>\n",
              "      <td>0</td>\n",
              "      <td>1</td>\n",
              "      <td>0</td>\n",
              "      <td>0</td>\n",
              "      <td>0</td>\n",
              "      <td>0</td>\n",
              "      <td>0</td>\n",
              "      <td>0</td>\n",
              "      <td>0</td>\n",
              "      <td>0</td>\n",
              "      <td>0</td>\n",
              "      <td>0</td>\n",
              "      <td>0</td>\n",
              "      <td>0</td>\n",
              "      <td>0</td>\n",
              "      <td>0</td>\n",
              "      <td>0</td>\n",
              "      <td>0</td>\n",
              "      <td>0</td>\n",
              "      <td>0</td>\n",
              "      <td>0</td>\n",
              "      <td>1</td>\n",
              "      <td>0</td>\n",
              "      <td>0</td>\n",
              "      <td>0</td>\n",
              "      <td>0</td>\n",
              "      <td>0</td>\n",
              "      <td>0</td>\n",
              "      <td>0</td>\n",
              "      <td>0</td>\n",
              "      <td>0</td>\n",
              "      <td>0</td>\n",
              "      <td>0</td>\n",
              "      <td>0</td>\n",
              "      <td>0</td>\n",
              "      <td>0</td>\n",
              "      <td>0</td>\n",
              "      <td>0</td>\n",
              "      <td>0</td>\n",
              "      <td>0</td>\n",
              "      <td>0</td>\n",
              "      <td>66790</td>\n",
              "    </tr>\n",
              "    <tr>\n",
              "      <th>3</th>\n",
              "      <td>0</td>\n",
              "      <td>0</td>\n",
              "      <td>0</td>\n",
              "      <td>0</td>\n",
              "      <td>0</td>\n",
              "      <td>0</td>\n",
              "      <td>0</td>\n",
              "      <td>0</td>\n",
              "      <td>0</td>\n",
              "      <td>0</td>\n",
              "      <td>0</td>\n",
              "      <td>0</td>\n",
              "      <td>0</td>\n",
              "      <td>1</td>\n",
              "      <td>0</td>\n",
              "      <td>0</td>\n",
              "      <td>0</td>\n",
              "      <td>0</td>\n",
              "      <td>0</td>\n",
              "      <td>0</td>\n",
              "      <td>0</td>\n",
              "      <td>0</td>\n",
              "      <td>0</td>\n",
              "      <td>0</td>\n",
              "      <td>0</td>\n",
              "      <td>0</td>\n",
              "      <td>0</td>\n",
              "      <td>0</td>\n",
              "      <td>0</td>\n",
              "      <td>0</td>\n",
              "      <td>0</td>\n",
              "      <td>0</td>\n",
              "      <td>0</td>\n",
              "      <td>1</td>\n",
              "      <td>0</td>\n",
              "      <td>0</td>\n",
              "      <td>0</td>\n",
              "      <td>0</td>\n",
              "      <td>0</td>\n",
              "      <td>0</td>\n",
              "      <td>0</td>\n",
              "      <td>0</td>\n",
              "      <td>0</td>\n",
              "      <td>0</td>\n",
              "      <td>0</td>\n",
              "      <td>0</td>\n",
              "      <td>0</td>\n",
              "      <td>0</td>\n",
              "      <td>0</td>\n",
              "      <td>0</td>\n",
              "      <td>0</td>\n",
              "      <td>0</td>\n",
              "      <td>0</td>\n",
              "      <td>1</td>\n",
              "      <td>0</td>\n",
              "      <td>0</td>\n",
              "      <td>0</td>\n",
              "      <td>0</td>\n",
              "      <td>0</td>\n",
              "      <td>0</td>\n",
              "      <td>0</td>\n",
              "      <td>0</td>\n",
              "      <td>0</td>\n",
              "      <td>0</td>\n",
              "      <td>0</td>\n",
              "      <td>0</td>\n",
              "      <td>0</td>\n",
              "      <td>0</td>\n",
              "      <td>0</td>\n",
              "      <td>0</td>\n",
              "      <td>0</td>\n",
              "      <td>0</td>\n",
              "      <td>0</td>\n",
              "      <td>72330</td>\n",
              "    </tr>\n",
              "    <tr>\n",
              "      <th>4</th>\n",
              "      <td>0</td>\n",
              "      <td>0</td>\n",
              "      <td>0</td>\n",
              "      <td>0</td>\n",
              "      <td>0</td>\n",
              "      <td>0</td>\n",
              "      <td>0</td>\n",
              "      <td>0</td>\n",
              "      <td>0</td>\n",
              "      <td>0</td>\n",
              "      <td>0</td>\n",
              "      <td>0</td>\n",
              "      <td>1</td>\n",
              "      <td>0</td>\n",
              "      <td>0</td>\n",
              "      <td>0</td>\n",
              "      <td>0</td>\n",
              "      <td>0</td>\n",
              "      <td>0</td>\n",
              "      <td>0</td>\n",
              "      <td>0</td>\n",
              "      <td>0</td>\n",
              "      <td>0</td>\n",
              "      <td>0</td>\n",
              "      <td>0</td>\n",
              "      <td>0</td>\n",
              "      <td>0</td>\n",
              "      <td>0</td>\n",
              "      <td>0</td>\n",
              "      <td>0</td>\n",
              "      <td>0</td>\n",
              "      <td>0</td>\n",
              "      <td>0</td>\n",
              "      <td>1</td>\n",
              "      <td>0</td>\n",
              "      <td>0</td>\n",
              "      <td>0</td>\n",
              "      <td>0</td>\n",
              "      <td>0</td>\n",
              "      <td>0</td>\n",
              "      <td>0</td>\n",
              "      <td>0</td>\n",
              "      <td>0</td>\n",
              "      <td>1</td>\n",
              "      <td>0</td>\n",
              "      <td>0</td>\n",
              "      <td>0</td>\n",
              "      <td>0</td>\n",
              "      <td>0</td>\n",
              "      <td>0</td>\n",
              "      <td>0</td>\n",
              "      <td>0</td>\n",
              "      <td>0</td>\n",
              "      <td>0</td>\n",
              "      <td>0</td>\n",
              "      <td>0</td>\n",
              "      <td>0</td>\n",
              "      <td>0</td>\n",
              "      <td>0</td>\n",
              "      <td>0</td>\n",
              "      <td>0</td>\n",
              "      <td>0</td>\n",
              "      <td>0</td>\n",
              "      <td>0</td>\n",
              "      <td>0</td>\n",
              "      <td>0</td>\n",
              "      <td>0</td>\n",
              "      <td>0</td>\n",
              "      <td>0</td>\n",
              "      <td>0</td>\n",
              "      <td>0</td>\n",
              "      <td>0</td>\n",
              "      <td>0</td>\n",
              "      <td>55370</td>\n",
              "    </tr>\n",
              "  </tbody>\n",
              "</table>\n",
              "</div>"
            ],
            "text/plain": [
              "   main_S60_1  main_S60_2  main_type_SP100D  ...  sales_29  sales_30   MSRP\n",
              "0           0           0                 0  ...         0         0  51355\n",
              "1           0           0                 0  ...         0         0  71580\n",
              "2           0           0                 0  ...         0         0  66790\n",
              "3           0           0                 0  ...         0         0  72330\n",
              "4           0           0                 0  ...         0         0  55370\n",
              "\n",
              "[5 rows x 74 columns]"
            ]
          },
          "metadata": {
            "tags": []
          },
          "execution_count": 7
        }
      ]
    },
    {
      "cell_type": "markdown",
      "metadata": {
        "id": "kcmsU-T1dnNF"
      },
      "source": [
        "# Task I. Consolidate data by finding numbers of unique car combinations sold for training and test data sets\n",
        "\n",
        "You've probably noticed that 73 of the 74 columns in our Q12 and Q34 datasets are one-hot-encoded representations of the car's `'main_type'`, `'engine'`, and `'sales_version'` values. You've probably also noticed that the final column is the car's `'MSRP'`, or manufacturer's (Tesla's, in this case) suggested retail price. In its current form, the sales data doesn't contain a target. The car's `'main_type'`, `'engine'`, `'sales_version'`, and `'MSRP'` values are all known to us before the time of the sale and do not, by themselves, offer us anything which we can predict. \n",
        "\n",
        "However, each row represents the sale of a single car. If we define a unique car type by its combination of `'main_type'`, `'engine'`, and `'sales_version'` values, the number of rows displaying that combination corresponds to the number of times during that half of the year that that distinct type of car was sold in California. Therefore, we can make training and test datasets where each row now corresponds to a unique car type, and the target value is how many times that car type was sold in California during a given half of the year.\n",
        "\n",
        "## This task requires data wrangling!\n",
        "## Create functions that read the Q12 (df_sales) and Q34 (df_pred) data sets and create train_X, train_Y, test_X and test_Y, respectively. Use pandas and NumPy as needed.\n",
        "\n",
        "train_X, test_X = unique row combinations without MSRP column\n",
        "\n",
        "train_Y, test_Y = number of unique cars sold"
      ]
    },
    {
      "cell_type": "code",
      "metadata": {
        "id": "qRlSIcDGhJ74"
      },
      "source": [
        "def get_features_and_targets(df):\n",
        "    ### START CODE HERE ###\n",
        "    # Create the local data DataFrame as a copy of the input df DataFrame, minus the 'MSRP' column\n",
        "    data = df.drop(columns=['MSRP'])\n",
        "    # Use the value_counts() method for DataFrames to store the targets as a NumPy array of the \n",
        "    # normalized sales counts associated with each unique combination of 'main_type', 'engine', \n",
        "    # and 'sales_version' values in the data DataFrame\n",
        "    # Make sure the counts are unsorted, so they're listed in order of the combination's first appearance\n",
        "    # in the data DataFrame, and that the array is 2D, with 1 entry per row\n",
        "    Y = np.array(data.value_counts(sort=False, normalize=True))[:, np.newaxis] \n",
        "    # Get a list of the column names of the data DataFrame\n",
        "    subset_names = data.columns.values.tolist()\n",
        "    # Use the drop_duplicates() method on the df DataFrame to store the features data as a NumPy array where\n",
        "    # each row corresponds to a unique combination otf 'main_type', 'engine', and 'sales_version' values\n",
        "    # Make sure to set the subset parameter to subse_names, so the 'MSRP' column isn't included in the \n",
        "    # uniqueness calculations\n",
        "    X = np.array(df.drop_duplicates(subset=subset_names))\n",
        "    # Scale and shift the 'MSRP' column so its values fall in the range [0,1]\n",
        "    # You might find NumPy's ptp() function useful\n",
        "    X[:,-1] = ( X[:,-1] - min(X[:,-1]) ) / np.ptp(X[:,-1])\n",
        "    # Return features and targets\n",
        "    return X, Y\n",
        "    ### END CODE HERE ###"
      ],
      "execution_count": null,
      "outputs": []
    },
    {
      "cell_type": "markdown",
      "metadata": {
        "id": "toTX3W89fX2P"
      },
      "source": [
        "### Extract features and targets as defined above from both the Q12 and Q34 datasets"
      ]
    },
    {
      "cell_type": "code",
      "metadata": {
        "id": "Rf6Vj0ujhJ77",
        "colab": {
          "base_uri": "https://localhost:8080/",
          "height": 52
        },
        "outputId": "223e4ec1-f539-4dae-d9f4-ebde6704105b"
      },
      "source": [
        "### START CODE HERE ###\n",
        "# Extract training features and targets from the Q12 data\n",
        "train_X, train_Y = get_features_and_targets(df_sales)\n",
        "# Extract test features and targets from the Q34 data\n",
        "test_X, test_Y = get_features_and_targets(df_pred)\n",
        "### END CODE HERE ###\n",
        "print(f\"Number of unique cars in Q12 = {len(train_Y)}\")\n",
        "print(f\"Number of unique cars in Q34 = {len(test_Y)}\")"
      ],
      "execution_count": null,
      "outputs": [
        {
          "output_type": "stream",
          "text": [
            "Number of unique cars in Q12 = 66\n",
            "Number of unique cars in Q34 = 71\n"
          ],
          "name": "stdout"
        }
      ]
    },
    {
      "cell_type": "markdown",
      "metadata": {
        "id": "8d7BSjsQdnNV"
      },
      "source": [
        "You probably noticed that the Q12 and Q34 datasets contained differing numbers of distinct cars. Clearly, some new models were introduced by Q3, but were any discontinued by the end of Q2? Let's find out."
      ]
    },
    {
      "cell_type": "code",
      "metadata": {
        "id": "luGBEZB5hJ8A",
        "colab": {
          "base_uri": "https://localhost:8080/",
          "height": 34
        },
        "outputId": "b1496c58-8cf1-4190-b98b-b792c50d9ce9"
      },
      "source": [
        "# How many unique cars in 2012 (Q1:Q4)?\n",
        "### START CODE HERE ### \n",
        "# Concatenate the Q12 and Q34 DataFrames into a single DataFrame\n",
        "df_full = pd.concat([df_sales, df_pred])\n",
        "# Extract features and targets from the concatenated Q14 data\n",
        "data_X, data_Y = get_features_and_targets(df_full)\n",
        "### END CODE HERE ###\n",
        "print(f\"Number of unique cars in Q12 and Q34 = {len(data_Y)}\")"
      ],
      "execution_count": null,
      "outputs": [
        {
          "output_type": "stream",
          "text": [
            "Number of unique cars in Q12 and Q34 = 80\n"
          ],
          "name": "stdout"
        }
      ]
    },
    {
      "cell_type": "markdown",
      "metadata": {
        "id": "AGEXB0mCdnNb"
      },
      "source": [
        "The following probability equations are true for any two events $A$ and $B$:\n",
        "\n",
        "$$P (A \\cup B) = P(A) + P(B) - P (A \\cap B)$$\n",
        "$$P(A) = P (A \\cap B) + P (A \\cap B^c)$$\n",
        "\n",
        "Use them to determine how many car models were sold in both halves of 2019, how many were discontinued by the second half of the year, and how many were launched in the second half of the year."
      ]
    },
    {
      "cell_type": "code",
      "metadata": {
        "id": "Hewxl1lMf-VF",
        "colab": {
          "base_uri": "https://localhost:8080/",
          "height": 70
        },
        "outputId": "1239c19b-abc9-4b5f-ccff-c673e2d2fb10"
      },
      "source": [
        "### START CODE HERE ###\n",
        "models_q12_or_q34 = len(data_Y)\n",
        "models_q12 = len(train_Y)\n",
        "models_q34 = len(test_Y)\n",
        "models_q14 = models_q12 + models_q34 - models_q12_or_q34\n",
        "discontinued = models_q12 - models_q14\n",
        "launched = models_q34 - models_q14\n",
        "print(f\"{models_q14} models were sold throughout 2019\")\n",
        "print(f\"{discontinued} models were discontinued by the second half of 2019\")\n",
        "print(f\"{launched} models were launched in the second half of 2019\")\n",
        "### END CODE HERE ###"
      ],
      "execution_count": null,
      "outputs": [
        {
          "output_type": "stream",
          "text": [
            "57 models were sold throughout 2019\n",
            "9 models were discontinued by the second half of 2019\n",
            "14 models were launched in the second half of 2019\n"
          ],
          "name": "stdout"
        }
      ]
    },
    {
      "cell_type": "markdown",
      "metadata": {
        "id": "3qn6SNBNdnNb"
      },
      "source": [
        "# Task II: Visualize the training and test targets any way you see fit"
      ]
    },
    {
      "cell_type": "code",
      "metadata": {
        "id": "RsuuxEqhjD6q",
        "colab": {
          "base_uri": "https://localhost:8080/",
          "height": 264
        },
        "outputId": "18974f1c-b502-46ba-b969-91a848683457"
      },
      "source": [
        "# Visualize the training targets\n",
        "### START CODE HERE ###\n",
        "plt.scatter(range(len(train_Y)), train_Y)\n",
        "plt.show()\n",
        "### END CODE HERE ###"
      ],
      "execution_count": null,
      "outputs": [
        {
          "output_type": "display_data",
          "data": {
            "image/png": "[encoded data removed]",
            "text/plain": [
              "<Figure size 432x288 with 1 Axes>"
            ]
          },
          "metadata": {
            "tags": [],
            "needs_background": "light"
          }
        }
      ]
    },
    {
      "cell_type": "code",
      "metadata": {
        "id": "gyGN9vqLdnNe",
        "colab": {
          "base_uri": "https://localhost:8080/",
          "height": 264
        },
        "outputId": "54530685-f524-4a71-b098-3b68dd5f6ae7"
      },
      "source": [
        "# Visualize the test targets\n",
        "### START CODE HERE ###\n",
        "plt.scatter(range(len(test_Y)), test_Y)\n",
        "plt.show()\n",
        "### END CODE HERE ###"
      ],
      "execution_count": null,
      "outputs": [
        {
          "output_type": "display_data",
          "data": {
            "image/png": "[encoded data removed]",
            "text/plain": [
              "<Figure size 432x288 with 1 Axes>"
            ]
          },
          "metadata": {
            "tags": [],
            "needs_background": "light"
          }
        }
      ]
    },
    {
      "cell_type": "markdown",
      "metadata": {
        "id": "9g-2fwgydnNh"
      },
      "source": [
        "# Task III: Apply Gradient Descent (Linear, Polynomial)"
      ]
    },
    {
      "cell_type": "markdown",
      "metadata": {
        "id": "fXjeuMN3dnNh"
      },
      "source": [
        "Initialize the $\\theta$ parameters as a column vector of zeros, one for every feature in the training data plus one for bias. \n",
        "\n",
        "Also set hyperparameters for learning rate and maximum number of iterations through the training data."
      ]
    },
    {
      "cell_type": "code",
      "metadata": {
        "id": "bq--V5vSdnNi"
      },
      "source": [
        "# Initialize learned parameters theta and hyperparameters\n",
        "s_theta = np.zeros((train_X.shape[1] + 1, 1))\n",
        "s_learning_rate = 0.005\n",
        "s_max_iteration = 1000"
      ],
      "execution_count": null,
      "outputs": []
    },
    {
      "cell_type": "markdown",
      "metadata": {
        "id": "Lx-wS125dnNk"
      },
      "source": [
        "### Hypothesis Function\n",
        "\n",
        "Define your hypothesis function $h$ (which you use to make predictions $\\hat{Y}$ as the matrix product of your features data X and parameters theta, in that order. \n",
        "\n",
        "Don't forget to add a 0th column of ones to X to account for the bias/offset parameter."
      ]
    },
    {
      "cell_type": "code",
      "metadata": {
        "id": "SI8oTUQsdnNk"
      },
      "source": [
        "# Define your hypothesis function according to the instructions above\n",
        "def h (theta, X) :\n",
        "    ### START CODE HERE ###\n",
        "    tempX = np.ones((X.shape[0], X.shape[1] + 1))\n",
        "    tempX[:,1:] = X\n",
        "    return np.matmul(tempX, theta)\n",
        "    ### END CODE HERE ###"
      ],
      "execution_count": null,
      "outputs": []
    },
    {
      "cell_type": "markdown",
      "metadata": {
        "id": "7LW5F5uhdnNm"
      },
      "source": [
        "Define your loss function as **half** the MSE (mean squared error) between your actual and predicted Y values. \n",
        "\n",
        "Recall that the predicted Y values are a function of theta and X.\n"
      ]
    },
    {
      "cell_type": "code",
      "metadata": {
        "id": "KzRpZec4dnNm"
      },
      "source": [
        "# Loss Function\n",
        "def loss (theta, X, Y) :\n",
        "    ### START CODE HERE ###\n",
        "    return np.average(np.square(Y - h(theta, X))) / 2\n",
        "    ### END CODE HERE ###"
      ],
      "execution_count": null,
      "outputs": []
    },
    {
      "cell_type": "markdown",
      "metadata": {
        "id": "PCLgRXivdnNp"
      },
      "source": [
        "### Gradient of Hypothesis Function\n",
        "\n",
        "One can verify through straightforward (if somewhat tedious) multivariable calculus that the gradient of the loss function $J$ with respect to the parameters $\\theta$ is \n",
        "\n",
        "$$ \\frac{\\partial J}{\\partial \\theta} = - \\frac{1}{m} X^T \\cdot (Y - \\hat{Y})$$.\n",
        "\n",
        "Here, $X$ has been augmented with a bias column. \n",
        "\n",
        "Set up a function to compute this gradient."
      ]
    },
    {
      "cell_type": "code",
      "metadata": {
        "id": "3zYnvBa1dnNp"
      },
      "source": [
        "def gradient (theta, X, Y) :\n",
        "    ### START CODE HERE ###\n",
        "    # Create a temporary X array with an added 0th bias column\n",
        "    tempX = np.ones((X.shape[0], X.shape[1] + 1))\n",
        "    tempX[:,1:] = X\n",
        "    # Compute the gradient according to the instructions above\n",
        "    d_theta = - np.dot(tempX.T, Y - h(theta, X)) / X.shape[0]\n",
        "    ### END CODE HERE ###\n",
        "    return d_theta"
      ],
      "execution_count": null,
      "outputs": []
    },
    {
      "cell_type": "markdown",
      "metadata": {
        "id": "fo-NxmSLdnNr"
      },
      "source": [
        "### Gradient Descent\n",
        "\n",
        "Set up a function to train your linear regression model with gradient descent, i.e. calculate $\\frac{\\partial J}{\\partial \\theta}$ and update $\\theta$. Recall that the general gradient descent update formula is $\\theta := \\theta - \\alpha \\frac{\\partial J}{\\partial \\theta}$. We've provided the skeleton of a stochastic gradient descent function, but you're welcome to experiment with batch and/or minibatch gradient descent. Also recall that the aforementioned gradient descent methods differ in how frequently they calculate $\\frac{\\partial J}{\\partial \\theta}$ and update $\\theta$. "
      ]
    },
    {
      "cell_type": "code",
      "metadata": {
        "id": "g6hbmDgkdnNs"
      },
      "source": [
        "def stochastic_gradient_descent (theta, X, Y, learning_rate, max_iteration, gap) :\n",
        "    ### START CODE HERE ###\n",
        "    # Initialize the cost as an array of zeros, one for each iteration through the dataset\n",
        "    cost = np.zeros(max_iteration)\n",
        "    # Loop over the dataset\n",
        "    for i in range(max_iteration):\n",
        "        # Loop over each row in the dataset\n",
        "        for j in range(X.shape[0]):\n",
        "            # Compute the gradient from the current row in X and the associated Y value\n",
        "            # Make sure that both X and Y are represented as 2D row vectors\n",
        "            d_theta = gradient (theta, X[np.newaxis, j, :], Y[np.newaxis, j, :])\n",
        "            # Update theta\n",
        "            theta = theta - learning_rate * d_theta\n",
        "        # Update the cost array for the current iteration\n",
        "        cost[i] = loss(theta, X, Y)\n",
        "    ### END CODE HERE ###\n",
        "        if i % gap == 0 :\n",
        "            print ('iteration : ', i, ' loss : ', loss(theta, X, Y)) \n",
        "    return theta, cost"
      ],
      "execution_count": null,
      "outputs": []
    },
    {
      "cell_type": "code",
      "metadata": {
        "id": "O084UJ8UdnNt",
        "colab": {
          "base_uri": "https://localhost:8080/",
          "height": 194
        },
        "outputId": "b9156544-d561-4a59-d1c4-43d0dcda17b5"
      },
      "source": [
        "s_theta, s_cost = stochastic_gradient_descent(s_theta, train_X, train_Y, s_learning_rate, s_max_iteration, 100)"
      ],
      "execution_count": null,
      "outputs": [
        {
          "output_type": "stream",
          "text": [
            "iteration :  0  loss :  0.00036415806022327966\n",
            "iteration :  100  loss :  0.0001925640810561058\n",
            "iteration :  200  loss :  0.0001821804599689788\n",
            "iteration :  300  loss :  0.00017850578118626986\n",
            "iteration :  400  loss :  0.0001765502287730614\n",
            "iteration :  500  loss :  0.0001753256544304044\n",
            "iteration :  600  loss :  0.0001744916813785426\n",
            "iteration :  700  loss :  0.00017389159561205926\n",
            "iteration :  800  loss :  0.00017344286836345495\n",
            "iteration :  900  loss :  0.00017309824360294394\n"
          ],
          "name": "stdout"
        }
      ]
    },
    {
      "cell_type": "markdown",
      "metadata": {
        "id": "B6D2kqejdnNv"
      },
      "source": [
        "### Generate Predictions from Test Data"
      ]
    },
    {
      "cell_type": "code",
      "metadata": {
        "id": "m-u3iTbNdnNw"
      },
      "source": [
        "### START CODE HERE ###\n",
        "GD_P = h(s_theta,test_X)\n",
        "### END CODE HERE ###\n",
        "# Set any negative predictions to 0\n",
        "GD_P[GD_P<0] = 0"
      ],
      "execution_count": null,
      "outputs": []
    },
    {
      "cell_type": "markdown",
      "metadata": {
        "id": "2ImYOho6dnNy"
      },
      "source": [
        "### Visualize the predicted and actual test labels"
      ]
    },
    {
      "cell_type": "code",
      "metadata": {
        "id": "Ljk24gJ4dnNy",
        "colab": {
          "base_uri": "https://localhost:8080/",
          "height": 282
        },
        "outputId": "b65c8ca3-9ea0-45c5-c719-2281b04e5960"
      },
      "source": [
        "plt.scatter(range(len(test_Y)), test_Y,  color='black')\n",
        "plt.scatter(range(len(GD_P)), GD_P, color='blue', linewidth=3)\n",
        "from sklearn.metrics import mean_squared_error as MSE\n",
        "\n",
        "# This function evaluates the R**2 statistic\n",
        "def r2(Yt,Yp):\n",
        "    yhat = Yp                         \n",
        "    ybar = np.sum(Yt)/len(Yt)          \n",
        "    ssreg = np.sum((yhat-ybar)**2)   \n",
        "    sstot = np.sum((Yt - ybar)**2)    \n",
        "    results = ssreg / sstot\n",
        "    return results\n",
        "\n",
        "\n",
        "print(\"RMSE, R2 using SGD=\", MSE(test_Y,GD_P), r2(test_Y,GD_P))"
      ],
      "execution_count": null,
      "outputs": [
        {
          "output_type": "stream",
          "text": [
            "RMSE, R2 using SGD= 0.0005586673986123582 0.822205335406593\n"
          ],
          "name": "stdout"
        },
        {
          "output_type": "display_data",
          "data": {
            "image/png": "[encoded data removed]",
            "text/plain": [
              "<Figure size 432x288 with 1 Axes>"
            ]
          },
          "metadata": {
            "tags": [],
            "needs_background": "light"
          }
        }
      ]
    },
    {
      "cell_type": "markdown",
      "metadata": {
        "id": "QNFkAA7gdnN0"
      },
      "source": [
        "# Task IV: Normal Equations\n",
        "\n",
        "Since our training dataset isn't very large, let's generate predictions using the normal equations: \n",
        "\n",
        "$$W = (X^T \\cdot X)^{-1} \\cdot X^T \\cdot Y$$ \n",
        "$$\\hat{Y} = X \\cdot W$$\n",
        "\n",
        "and see how they compare to the predictions which we obtained from gradient descent."
      ]
    },
    {
      "cell_type": "code",
      "metadata": {
        "id": "ez7XC2qQdnN1"
      },
      "source": [
        "### START CODE HERE ###\n",
        "# Compute W using the first of the Normal Equations\n",
        "W1 = np.matmul(np.linalg.pinv(np.matmul(train_X.T, train_X)), np.matmul(train_X.T, train_Y))\n",
        "# Compute the predicted Y values using the second of the Normal Equations\n",
        "PN1 = np.matmul(test_X, W1)\n",
        "### END CODE HERE ###\n",
        "\n",
        "# Set any negative predictions to 0\n",
        "PN1[np.where(PN1<0)]=0"
      ],
      "execution_count": null,
      "outputs": []
    },
    {
      "cell_type": "code",
      "metadata": {
        "scrolled": true,
        "id": "lu9NjgsJdnN3",
        "colab": {
          "base_uri": "https://localhost:8080/",
          "height": 282
        },
        "outputId": "0f15156a-660d-4f77-8b42-f3c9bd60da45"
      },
      "source": [
        "# Plot outputs\n",
        "plt.scatter(range(len(test_Y)), test_Y,  color='black')\n",
        "plt.scatter(range(len(PN1)), PN1, color='blue', linewidth=3)\n",
        "print(\"RMSE, R2 for prediction all features =\", MSE(test_Y,PN1), r2(test_Y,PN1)) #[Low error high corr]"
      ],
      "execution_count": null,
      "outputs": [
        {
          "output_type": "stream",
          "text": [
            "RMSE, R2 for prediction all features = 0.0005596570062877884 0.8479142625775213\n"
          ],
          "name": "stdout"
        },
        {
          "output_type": "display_data",
          "data": {
            "image/png": "[encoded data removed]",
            "text/plain": [
              "<Figure size 432x288 with 1 Axes>"
            ]
          },
          "metadata": {
            "tags": [],
            "needs_background": "light"
          }
        }
      ]
    },
    {
      "cell_type": "markdown",
      "metadata": {
        "id": "i3ofJxdUdnN6"
      },
      "source": [
        "### Regularized Normal Equations"
      ]
    },
    {
      "cell_type": "code",
      "metadata": {
        "id": "VyIX4LaAdnN6",
        "colab": {
          "base_uri": "https://localhost:8080/",
          "height": 52
        },
        "outputId": "4bfb93fb-75c5-4b59-f5c7-15055afd1d4b"
      },
      "source": [
        "print('Recall that our training features array train_X has')\n",
        "print(f'm = {train_X.shape[0]} rows and n = {train_X.shape[1]} columns')"
      ],
      "execution_count": null,
      "outputs": [
        {
          "output_type": "stream",
          "text": [
            "Recall that our training features array train_X has\n",
            "m = 66 rows and n = 74 columns\n"
          ],
          "name": "stdout"
        }
      ]
    },
    {
      "cell_type": "markdown",
      "metadata": {
        "id": "BSvkrQ6EdnN8"
      },
      "source": [
        "`train_X` is thus wider than it is tall, which suggests that the regularized normal equations might perform better in generating label predictions. In this case, we modify the first of the normal equations given above to \n",
        "\n",
        "$$W = (X^T \\cdot X + \\lambda m I)^{-1} \\cdot X^T \\cdot Y$$.\n",
        "\n",
        "Here, $\\lambda$ is the regularization parameter and $m$ is the number of rows in $X$."
      ]
    },
    {
      "cell_type": "markdown",
      "metadata": {
        "id": "7Mgd1zocdnN9"
      },
      "source": [
        "### Repeat the previous parts of Task IV, but this time incorporate regularization"
      ]
    },
    {
      "cell_type": "code",
      "metadata": {
        "id": "bIrbJkOydnN9"
      },
      "source": [
        "### START CODE HERE ###\n",
        "# set parameters\n",
        "lamb = 0.05\n",
        "m = train_X.shape[0]\n",
        "I = np.identity(train_X.shape[1])\n",
        "\n",
        "# compute regularized weights\n",
        "W2 = np.linalg.pinv(train_X.T.dot(train_X) + lamb*m*I).dot(train_X.T.dot(train_Y))\n",
        "\n",
        "# make prediction\n",
        "PN2 = test_X.dot(W2)\n",
        "### END CODE HERE ###\n",
        "\n",
        "# Set any negative predictions to 0\n",
        "PN2[np.where(PN2<0)] = 0"
      ],
      "execution_count": null,
      "outputs": []
    },
    {
      "cell_type": "code",
      "metadata": {
        "id": "B4RuhLSUuWCf",
        "colab": {
          "base_uri": "https://localhost:8080/",
          "height": 282
        },
        "outputId": "7b072354-ae3f-4eec-f7b3-0649af0f3a43"
      },
      "source": [
        "# Plot outputs\n",
        "plt.scatter(range(len(test_Y)), test_Y,  color='black')\n",
        "plt.scatter(range(len(PN2)), PN2, color='blue', linewidth=3)\n",
        "print(\"RMSE, R2 for prediction all features =\", MSE(test_Y,PN2), r2(test_Y,PN2)) #[Low error high corr]"
      ],
      "execution_count": null,
      "outputs": [
        {
          "output_type": "stream",
          "text": [
            "RMSE, R2 for prediction all features = 0.0005976751396085603 0.8639727999148286\n"
          ],
          "name": "stdout"
        },
        {
          "output_type": "display_data",
          "data": {
            "image/png": "[encoded data removed]",
            "text/plain": [
              "<Figure size 432x288 with 1 Axes>"
            ]
          },
          "metadata": {
            "tags": [],
            "needs_background": "light"
          }
        }
      ]
    },
    {
      "cell_type": "markdown",
      "metadata": {
        "id": "o5uD0DVidnN_"
      },
      "source": [
        "# Task V: Non-linear Regression Models (GLM, DT) "
      ]
    },
    {
      "cell_type": "markdown",
      "metadata": {
        "id": "Yk0Be7SQdnN_"
      },
      "source": [
        "### Generalized Linear Models\n",
        "\n",
        "`sm` (our alias for `statsmodels.api`) contains a `GLM` class. Use it to instantiate a model. The relevant parameters are training labels, training features, and `ffamily`, i.e. the family of distributions to which we assume our prediction errors belong. Some potentially good choices for `ffamily` include Gaussian, Gamma, and Logit."
      ]
    },
    {
      "cell_type": "code",
      "metadata": {
        "id": "cxUdD_LhdnN_",
        "colab": {
          "base_uri": "https://localhost:8080/",
          "height": 1000
        },
        "outputId": "73ad2e9a-7b9f-476d-a0f2-24f75685dd63"
      },
      "source": [
        "# GLM \n",
        "import statsmodels.api as sm\n",
        "### START CODE HERE ###\n",
        "# Instantiate the GLM\n",
        "glm_gamma = sm.GLM(train_Y, train_X, family=sm.families.Gaussian())\n",
        "# Train the GLM\n",
        "glm_results = glm_gamma.fit()\n",
        "### END CODE HERE ###\n",
        "print(glm_results.summary())"
      ],
      "execution_count": null,
      "outputs": [
        {
          "output_type": "stream",
          "text": [
            "                 Generalized Linear Model Regression Results                  \n",
            "==============================================================================\n",
            "Dep. Variable:                      y   No. Observations:                   66\n",
            "Model:                            GLM   Df Residuals:                       34\n",
            "Model Family:                Gaussian   Df Model:                           31\n",
            "Link Function:               identity   Scale:                      0.00066625\n",
            "Method:                          IRLS   Log-Likelihood:                 169.60\n",
            "Date:                Tue, 27 Oct 2020   Deviance:                     0.022652\n",
            "Time:                        00:15:11   Pearson chi2:                   0.0227\n",
            "No. Iterations:                     4                                         \n",
            "Covariance Type:            nonrobust                                         \n",
            "==============================================================================\n",
            "                 coef    std err          z      P>|z|      [0.025      0.975]\n",
            "------------------------------------------------------------------------------\n",
            "const      -3.625e-17   2.27e-17     -1.596      0.110   -8.08e-17    8.27e-18\n",
            "x1         -2.748e-17    1.6e-17     -1.722      0.085   -5.88e-17     3.8e-18\n",
            "x2             0.0026      0.037      0.070      0.944      -0.069       0.074\n",
            "x3            -0.0637      0.052     -1.235      0.217      -0.165       0.037\n",
            "x4             0.0015      0.014      0.107      0.915      -0.027       0.030\n",
            "x5             0.0395      0.012      3.218      0.001       0.015       0.064\n",
            "x6             0.0073      0.014      0.517      0.605      -0.020       0.035\n",
            "x7         -1.119e-17   1.64e-17     -0.683      0.495   -4.33e-17    2.09e-17\n",
            "x8             0.0135      0.028      0.483      0.629      -0.041       0.068\n",
            "x9             0.0043      0.015      0.289      0.773      -0.025       0.033\n",
            "x10            0.0075      0.019      0.404      0.686      -0.029       0.044\n",
            "x11            0.0143      0.016      0.894      0.372      -0.017       0.046\n",
            "x12            0.0353      0.011      3.144      0.002       0.013       0.057\n",
            "x13           -0.0070      0.021     -0.327      0.744      -0.049       0.035\n",
            "x14        -1.114e-17   7.89e-18     -1.411      0.158   -2.66e-17    4.33e-18\n",
            "x15         4.203e-18   1.09e-17      0.387      0.699   -1.71e-17    2.55e-17\n",
            "x16            0.0056      0.008      0.678      0.498      -0.011       0.022\n",
            "x17           -0.0002      0.011     -0.017      0.986      -0.022       0.022\n",
            "x18        -9.597e-18   9.29e-18     -1.033      0.302   -2.78e-17    8.62e-18\n",
            "x19         3.087e-18   1.49e-17      0.207      0.836   -2.61e-17    3.23e-17\n",
            "x20        -2.404e-18   1.09e-17     -0.222      0.825   -2.37e-17    1.89e-17\n",
            "x21           -0.0004      0.017     -0.025      0.980      -0.034       0.034\n",
            "x22        -5.953e-19   9.76e-18     -0.061      0.951   -1.97e-17    1.85e-17\n",
            "x23            0.0320      0.022      1.429      0.153      -0.012       0.076\n",
            "x24         1.127e-17   1.03e-17      1.093      0.274   -8.94e-18    3.15e-17\n",
            "x25         1.252e-17   1.31e-17      0.957      0.338   -1.31e-17    3.82e-17\n",
            "x26         5.955e-18   8.03e-18      0.741      0.459   -9.79e-18    2.17e-17\n",
            "x27         7.558e-19   9.61e-19      0.786      0.432   -1.13e-18    2.64e-18\n",
            "x28         7.521e-18   3.89e-18      1.933      0.053   -1.07e-19    1.51e-17\n",
            "x29         2.623e-18   1.64e-18      1.597      0.110   -5.96e-19    5.84e-18\n",
            "x30           -0.0031      0.030     -0.104      0.917      -0.062       0.055\n",
            "x31           -0.0095      0.023     -0.406      0.685      -0.055       0.036\n",
            "x32         8.566e-05      0.013      0.007      0.995      -0.025       0.025\n",
            "x33           -0.0034      0.009     -0.360      0.719      -0.022       0.015\n",
            "x34                 0          0        nan        nan           0           0\n",
            "x35                 0          0        nan        nan           0           0\n",
            "x36                 0          0        nan        nan           0           0\n",
            "x37            0.0058      0.011      0.512      0.608      -0.016       0.028\n",
            "x38                 0          0        nan        nan           0           0\n",
            "x39                 0          0        nan        nan           0           0\n",
            "x40           -0.0148      0.030     -0.489      0.625      -0.074       0.045\n",
            "x41                 0          0        nan        nan           0           0\n",
            "x42           -0.0205      0.012     -1.778      0.075      -0.043       0.002\n",
            "x43            0.0366      0.020      1.826      0.068      -0.003       0.076\n",
            "x44                 0          0        nan        nan           0           0\n",
            "x45            0.0016      0.020      0.083      0.934      -0.037       0.040\n",
            "x46        -8.566e-05      0.020     -0.004      0.997      -0.039       0.038\n",
            "x47           -0.0020      0.028     -0.070      0.945      -0.057       0.054\n",
            "x48                 0          0        nan        nan           0           0\n",
            "x49           -0.0115      0.020     -0.576      0.564      -0.051       0.028\n",
            "x50           -0.0096      0.010     -0.997      0.319      -0.028       0.009\n",
            "x51            0.0013      0.010      0.131      0.895      -0.017       0.020\n",
            "x52            0.0209      0.026      0.788      0.431      -0.031       0.073\n",
            "x53            0.0599      0.034      1.765      0.078      -0.007       0.127\n",
            "x54                 0          0        nan        nan           0           0\n",
            "x55                 0          0        nan        nan           0           0\n",
            "x56                 0          0        nan        nan           0           0\n",
            "x57                 0          0        nan        nan           0           0\n",
            "x58                 0          0        nan        nan           0           0\n",
            "x59            0.0053      0.031      0.173      0.863      -0.055       0.066\n",
            "x60                 0          0        nan        nan           0           0\n",
            "x61                 0          0        nan        nan           0           0\n",
            "x62                 0          0        nan        nan           0           0\n",
            "x63         8.566e-05      0.013      0.007      0.995      -0.025       0.025\n",
            "x64                 0          0        nan        nan           0           0\n",
            "x65                 0          0        nan        nan           0           0\n",
            "x66            0.0072      0.009      0.803      0.422      -0.010       0.025\n",
            "x67            0.0234      0.026      0.883      0.377      -0.029       0.075\n",
            "x68            0.0320      0.022      1.429      0.153      -0.012       0.076\n",
            "x69                 0          0        nan        nan           0           0\n",
            "x70           -0.0132      0.020     -0.658      0.511      -0.052       0.026\n",
            "x71                 0          0        nan        nan           0           0\n",
            "x72                 0          0        nan        nan           0           0\n",
            "x73           -0.0040      0.038     -0.105      0.917      -0.078       0.070\n",
            "==============================================================================\n"
          ],
          "name": "stdout"
        },
        {
          "output_type": "stream",
          "text": [
            "/usr/local/lib/python3.6/dist-packages/statsmodels/base/model.py:1294: RuntimeWarning: invalid value encountered in true_divide\n",
            "  return self.params / self.bse\n",
            "/usr/local/lib/python3.6/dist-packages/scipy/stats/_distn_infrastructure.py:903: RuntimeWarning: invalid value encountered in greater\n",
            "  return (a < x) & (x < b)\n",
            "/usr/local/lib/python3.6/dist-packages/scipy/stats/_distn_infrastructure.py:903: RuntimeWarning: invalid value encountered in less\n",
            "  return (a < x) & (x < b)\n",
            "/usr/local/lib/python3.6/dist-packages/scipy/stats/_distn_infrastructure.py:1912: RuntimeWarning: invalid value encountered in less_equal\n",
            "  cond2 = cond0 & (x <= _a)\n"
          ],
          "name": "stderr"
        }
      ]
    },
    {
      "cell_type": "markdown",
      "metadata": {
        "id": "7IAchWHodnOB"
      },
      "source": [
        "### Generate predictions from the test data"
      ]
    },
    {
      "cell_type": "code",
      "metadata": {
        "id": "XLTsITX7dnOC"
      },
      "source": [
        "### START CODE HERE ###\n",
        "G_P = glm_results.predict(test_X)\n",
        "### END CODE HERE ###\n",
        "# Set any negative predictions to 0\n",
        "G_P[G_P<0]=0"
      ],
      "execution_count": null,
      "outputs": []
    },
    {
      "cell_type": "code",
      "metadata": {
        "id": "TgXIT-JpdnOE",
        "colab": {
          "base_uri": "https://localhost:8080/",
          "height": 282
        },
        "outputId": "e493ada1-182e-4da6-a832-5a8220d5d4ea"
      },
      "source": [
        "# Plot outputs\n",
        "plt.scatter(range(len(test_Y)), test_Y,  color='black')\n",
        "plt.scatter(range(len(G_P)), G_P, color='blue', linewidth=3)\n",
        "print(\"RMSE, R2 for GLM=\", MSE(test_Y,G_P), r2(test_Y,G_P)) "
      ],
      "execution_count": null,
      "outputs": [
        {
          "output_type": "stream",
          "text": [
            "RMSE, R2 for GLM= 0.0005596570062877873 0.847914262577519\n"
          ],
          "name": "stdout"
        },
        {
          "output_type": "display_data",
          "data": {
            "image/png": "[encoded data removed]",
            "text/plain": [
              "<Figure size 432x288 with 1 Axes>"
            ]
          },
          "metadata": {
            "tags": [],
            "needs_background": "light"
          }
        }
      ]
    },
    {
      "cell_type": "markdown",
      "metadata": {
        "id": "Vld0rNUcdnOG"
      },
      "source": [
        "### Random Forest Regression\n",
        "\n",
        "Use the `RandomForestRegressor` from `sklearn.ensemble` to generate predictions. The relevant parameters are the `max_depth` of the trees and the `random_state`, to ensure reproducibility."
      ]
    },
    {
      "cell_type": "code",
      "metadata": {
        "id": "EbxRUm3UdnOG",
        "colab": {
          "base_uri": "https://localhost:8080/",
          "height": 72
        },
        "outputId": "77797d73-fe0b-4254-f9fe-e50729ee5819"
      },
      "source": [
        "### START CODE HERE ###\n",
        "from sklearn.ensemble import RandomForestRegressor\n",
        "# Instantiate the random forest regression model\n",
        "regr = RandomForestRegressor()\n",
        "# Train the model\n",
        "regr.fit(train_X, train_Y)\n",
        "# Generate predictions from the test data\n",
        "pred_rf = regr.predict(test_X)\n",
        "### END CODE HERE ###"
      ],
      "execution_count": null,
      "outputs": [
        {
          "output_type": "stream",
          "text": [
            "/usr/local/lib/python3.6/dist-packages/ipykernel_launcher.py:6: DataConversionWarning: A column-vector y was passed when a 1d array was expected. Please change the shape of y to (n_samples,), for example using ravel().\n",
            "  \n"
          ],
          "name": "stderr"
        }
      ]
    },
    {
      "cell_type": "code",
      "metadata": {
        "id": "bWVeR1PvdnOI"
      },
      "source": [
        "# Set any negative predictions to 0\n",
        "pred_rf[np.where(pred_rf<0)]=0"
      ],
      "execution_count": null,
      "outputs": []
    },
    {
      "cell_type": "code",
      "metadata": {
        "id": "YSZX9t1MdnOK",
        "colab": {
          "base_uri": "https://localhost:8080/",
          "height": 282
        },
        "outputId": "8ae3280b-6209-4a91-8407-3db7692b2ccf"
      },
      "source": [
        "# Plot outputs\n",
        "plt.scatter(range(len(test_Y)), test_Y,  color='black')\n",
        "plt.scatter(range(len(pred_rf)), pred_rf, color='blue', linewidth=3)\n",
        "print(\"RMSE, R2 for Decision Trees=\", MSE(test_Y,pred_rf), r2(test_Y,pred_rf)) #[Low error high corr]"
      ],
      "execution_count": null,
      "outputs": [
        {
          "output_type": "stream",
          "text": [
            "RMSE, R2 for Decision Trees= 0.0006805993491977453 1.01908084000823\n"
          ],
          "name": "stdout"
        },
        {
          "output_type": "display_data",
          "data": {
            "image/png": "[encoded data removed]",
            "text/plain": [
              "<Figure size 432x288 with 1 Axes>"
            ]
          },
          "metadata": {
            "tags": [],
            "needs_background": "light"
          }
        }
      ]
    },
    {
      "cell_type": "code",
      "metadata": {
        "id": "oN6XgNtAQ55t",
        "colab": {
          "base_uri": "https://localhost:8080/",
          "height": 282
        },
        "outputId": "2dff9f3f-870c-46ef-aef6-c1f9ecb40678"
      },
      "source": [
        "# random forest on new parameters\n",
        "regr = RandomForestRegressor(n_estimators=20, max_features=6)\n",
        "# Train the model\n",
        "regr.fit(train_X, np.ravel(train_Y))\n",
        "# Generate predictions from the test data\n",
        "pred_rf = regr.predict(test_X)\n",
        "\n",
        "# Set any negative predictions to 0\n",
        "pred_rf[np.where(pred_rf<0)]=0\n",
        "\n",
        "# Plot outputs\n",
        "plt.scatter(range(len(test_Y)), test_Y,  color='black')\n",
        "plt.scatter(range(len(pred_rf)), pred_rf, color='blue', linewidth=3)\n",
        "print(\"RMSE, R2 for Decision Trees=\", MSE(test_Y,pred_rf), r2(test_Y,pred_rf)) #[Low error high corr]"
      ],
      "execution_count": null,
      "outputs": [
        {
          "output_type": "stream",
          "text": [
            "RMSE, R2 for Decision Trees= 0.0007161175752239692 0.9019698811034745\n"
          ],
          "name": "stdout"
        },
        {
          "output_type": "display_data",
          "data": {
            "image/png": "[encoded data removed]",
            "text/plain": [
              "<Figure size 432x288 with 1 Axes>"
            ]
          },
          "metadata": {
            "tags": [],
            "needs_background": "light"
          }
        }
      ]
    },
    {
      "cell_type": "markdown",
      "metadata": {
        "id": "bxx1JrikdnON"
      },
      "source": [
        "## Populate the table below with the results of your experiments above. Which models performed best? \n",
        "> The regularized normal equations produced the best model with RMSE of 0.0005137108362395977 and R2 score of 0.4015654423847725. The model with the second best performance, stochastic gradient descent, resulted in RMSE and R2 scores of 0.000518924229453394 and 0.6939013195958598, respectively."
      ]
    },
    {
      "cell_type": "markdown",
      "metadata": {
        "id": "44MPnft4dnON"
      },
      "source": [
        "## Results\n",
        "---------------------------------------------------------------------------\n",
        "Method                                          |  RMSE             | R2               |\n",
        "-------------------------------------------------------------------------------------\n",
        "1. Stochastic Gradient Descent | 0.000518924229453394 | 0.6939013195958598\n",
        "2. Normal Equations | 0.0005596570062877884  | 0.8479142625775213\n",
        "3. Regularized Normal Equations | 0.0004604483532264239 | 0.4015654423847725\n",
        "4. GLM | 0.0005596570062877873 | 0.847914262577519\n",
        "5. Decision Trees | 0.000641660130480879 | 0.8815598998343828 |"
      ]
    },
    {
      "cell_type": "markdown",
      "metadata": {
        "id": "n_HoMbxTdnOO"
      },
      "source": [
        "## Finally, pick some car types for which your models over- and under-predicted sales. Attempt to determine the root causes. Write your findings below.\n",
        "> For the Regularized Normal Equations, the model overpredicts sales for car types between 40 and 60.  "
      ]
    },
    {
      "cell_type": "markdown",
      "metadata": {
        "id": "Co6xv2Xi-4rw"
      },
      "source": [
        "# EXTRA CREDIT"
      ]
    },
    {
      "cell_type": "code",
      "metadata": {
        "id": "uToYSEfx-7i5",
        "colab": {
          "base_uri": "https://localhost:8080/",
          "height": 105
        },
        "outputId": "78e519f2-90e9-4836-c42f-312296246ec9"
      },
      "source": [
        "# Divide the training data into training and validation sets\n",
        "from sklearn.model_selection import train_test_split\n",
        "\n",
        "num_training = 32\n",
        "mask = list(range(num_training))\n",
        "X_train = train_X[mask]\n",
        "y_train = train_X[mask]\n",
        "\n",
        "num_val = 17\n",
        "mask = list(range(num_val))\n",
        "X_val = train_X[mask]\n",
        "y_val = train_Y[mask]\n",
        "\n",
        "num_test =  17\n",
        "mask = list(range(num_test))\n",
        "X_test = test_X[mask]\n",
        "y_test = test_Y[mask]\n",
        "\n",
        "# add bias vector\n",
        "X_train = add_constant(X_train)\n",
        "y_train = add_constant(y_train)\n",
        "\n",
        "X_val = add_constant(X_val)\n",
        "X_test = add_constant(test_X)\n",
        "\n",
        "# Reshape the image data into rows\n",
        "#X_train = np.reshape(X_train, (X_train.shape[0], -1))\n",
        "#X_test = np.reshape(X_test, (X_test.shape[0], -1))\n",
        "print(X_train.shape, X_test.shape)\n",
        "print('Train data shape: ', X_train.shape)\n",
        "print('Train labels shape: ', y_train.shape)\n",
        "print('Validation data shape: ', X_val.shape)\n",
        "print('Validation labels shape: ', y_val.shape)"
      ],
      "execution_count": null,
      "outputs": [
        {
          "output_type": "stream",
          "text": [
            "(32, 75) (71, 75)\n",
            "Train data shape:  (32, 75)\n",
            "Train labels shape:  (32, 75)\n",
            "Validation data shape:  (17, 75)\n",
            "Validation labels shape:  (17, 1)\n"
          ],
          "name": "stdout"
        }
      ]
    },
    {
      "cell_type": "code",
      "metadata": {
        "id": "0ZJZVhmIJuvM",
        "colab": {
          "base_uri": "https://localhost:8080/",
          "height": 194
        },
        "outputId": "c414c02c-860a-4316-e105-6bd37b6b4ef2"
      },
      "source": [
        "# Optimal Parameter Search: Regularized Normal Equations\n",
        "lambs = [0.08701794, 0.69192432, 0.53231781, 1, 0.43790221, 0.23, 0.5, 0.005, 0.07, 0.06]\n",
        "m = train_X.shape[0]\n",
        "I = np.identity(X_val.shape[1])\n",
        "i = 0\n",
        "\n",
        "while i < len(lambs):\n",
        "  for lamb in lambs:\n",
        "\n",
        "    W2 = np.linalg.pinv(X_val.T.dot(X_val) + lamb*m*I).dot(X_val.T.dot(y_val))\n",
        "    PN2 = X_test.dot(W2)\n",
        "    PN2[np.where(PN2<0)] = 0\n",
        "    print(f'learning_rate: {lamb} | R2: {r2(test_Y,PN2)}] | RMSE: {MSE(test_Y,PN2)}')\n",
        "\n",
        "    i = i+1\n",
        "    if (i==len(lambs)):\n",
        "      break"
      ],
      "execution_count": null,
      "outputs": [
        {
          "output_type": "stream",
          "text": [
            "learning_rate: 0.08701794 | R2: 0.8639727999148286] | RMSE: 0.0005976751396085603\n",
            "learning_rate: 0.69192432 | R2: 0.038227001558737074] | RMSE: 0.00035472395715747045\n",
            "learning_rate: 0.53231781 | R2: 0.033247405942143454] | RMSE: 0.0003509441116358093\n",
            "learning_rate: 1 | R2: 0.0826679801416188] | RMSE: 0.0003721258275673666\n",
            "learning_rate: 0.43790221 | R2: 0.04794804754463948] | RMSE: 0.00035406825499082714\n",
            "learning_rate: 0.23 | R2: 0.22448163568487778] | RMSE: 0.0004051734226745469\n",
            "learning_rate: 0.5 | R2: 0.03613378020487461] | RMSE: 0.0003513573096722728\n",
            "learning_rate: 0.005 | R2: 5.336439308634176] | RMSE: 0.0020360029337548728\n",
            "learning_rate: 0.07 | R2: 1.0686796984373916] | RMSE: 0.0006595927417849685\n",
            "learning_rate: 0.06 | R2: 1.2285124721919023] | RMSE: 0.0007080821624858101\n"
          ],
          "name": "stdout"
        }
      ]
    },
    {
      "cell_type": "code",
      "metadata": {
        "id": "e-grAsTiI-Ki",
        "colab": {
          "base_uri": "https://localhost:8080/",
          "height": 282
        },
        "outputId": "db157493-32c8-40b4-9d84-83523d728300"
      },
      "source": [
        "# compute W using optimal learning_rate\n",
        "W2 = np.linalg.pinv(X_val.T.dot(X_val) + 0.08701794*m*I).dot(X_val.T.dot(y_val))\n",
        "PN2 = X_test.dot(W2)\n",
        "PN2[np.where(PN2<0)] = 0\n",
        "\n",
        "# Plot outputs\n",
        "plt.scatter(range(len(test_Y)), test_Y,  color='black')\n",
        "plt.scatter(range(len(PN2)), PN2, color='blue', linewidth=3)\n",
        "print(\"RMSE, R2 for prediction all features =\", MSE(test_Y,PN2), r2(test_Y,PN2)) #[Low error high corr]"
      ],
      "execution_count": null,
      "outputs": [
        {
          "output_type": "stream",
          "text": [
            "RMSE, R2 for prediction all features = 0.0005976751396085603 0.8639727999148286\n"
          ],
          "name": "stdout"
        },
        {
          "output_type": "display_data",
          "data": {
            "image/png": "[encoded data removed]",
            "text/plain": [
              "<Figure size 432x288 with 1 Axes>"
            ]
          },
          "metadata": {
            "tags": [],
            "needs_background": "light"
          }
        }
      ]
    },
    {
      "cell_type": "code",
      "metadata": {
        "id": "Nj6BWcZfVChv"
      },
      "source": [
        "# Optimal Parameter Search: Random Forest Regressor\n",
        "\n",
        "param_grid = [\n",
        "              {'n_estimators': [3, 10, 20, 30, 40], 'max_features': [2, 4, 6, 8, 10]},            # 5 x 5 = 25 combinations\n",
        "              {'bootstrap': [False], 'n_estimators': [3, 10], 'max_features': [2, 3, 4]}  # 2 x 3 = 6 combinations\n",
        "]                                                                                         # 25 + 6 = 31 combinations\n",
        "                                                                          # 3-fold CV so 3 * 31 = 93 training rounds\n",
        "\n",
        "grid_search = GridSearchCV(regr, param_grid=param_grid, cv=3, scoring= 'neg_mean_squared_error')"
      ],
      "execution_count": null,
      "outputs": []
    },
    {
      "cell_type": "code",
      "metadata": {
        "id": "PVaMsjNaVVgh",
        "colab": {
          "base_uri": "https://localhost:8080/",
          "height": 390
        },
        "outputId": "96627575-2abc-408c-ed22-84c8401f0599"
      },
      "source": [
        "grid_search.fit(train_X, np.ravel(train_Y))"
      ],
      "execution_count": null,
      "outputs": [
        {
          "output_type": "execute_result",
          "data": {
            "text/plain": [
              "GridSearchCV(cv=3, error_score=nan,\n",
              "             estimator=RandomForestRegressor(bootstrap=True, ccp_alpha=0.0,\n",
              "                                             criterion='mse', max_depth=None,\n",
              "                                             max_features=6,\n",
              "                                             max_leaf_nodes=None,\n",
              "                                             max_samples=None,\n",
              "                                             min_impurity_decrease=0.0,\n",
              "                                             min_impurity_split=None,\n",
              "                                             min_samples_leaf=1,\n",
              "                                             min_samples_split=2,\n",
              "                                             min_weight_fraction_leaf=0.0,\n",
              "                                             n_estimators=20, n_jobs=None,\n",
              "                                             oob_score=False, random_state=None,\n",
              "                                             verbose=0, warm_start=False),\n",
              "             iid='deprecated', n_jobs=None,\n",
              "             param_grid=[{'max_features': [2, 4, 6, 8, 10],\n",
              "                          'n_estimators': [3, 10, 20, 30, 40]},\n",
              "                         {'bootstrap': [False], 'max_features': [2, 3, 4],\n",
              "                          'n_estimators': [3, 10]}],\n",
              "             pre_dispatch='2*n_jobs', refit=True, return_train_score=False,\n",
              "             scoring='neg_mean_squared_error', verbose=0)"
            ]
          },
          "metadata": {
            "tags": []
          },
          "execution_count": 38
        }
      ]
    },
    {
      "cell_type": "code",
      "metadata": {
        "id": "gVG7cB-OVfig",
        "colab": {
          "base_uri": "https://localhost:8080/",
          "height": 34
        },
        "outputId": "ce831489-50c0-4299-ddeb-848f8b50319f"
      },
      "source": [
        "grid_search.best_params_"
      ],
      "execution_count": null,
      "outputs": [
        {
          "output_type": "execute_result",
          "data": {
            "text/plain": [
              "{'max_features': 2, 'n_estimators': 3}"
            ]
          },
          "metadata": {
            "tags": []
          },
          "execution_count": 39
        }
      ]
    },
    {
      "cell_type": "code",
      "metadata": {
        "id": "7DYyFIOZVjkc",
        "colab": {
          "base_uri": "https://localhost:8080/",
          "height": 282
        },
        "outputId": "0af80a5c-2160-457c-d079-da5a704a5449"
      },
      "source": [
        "# random forest on new parameters\n",
        "regr = RandomForestRegressor(n_estimators=20, max_features=6)\n",
        "# Train the model\n",
        "regr.fit(train_X, np.ravel(train_Y))\n",
        "# Generate predictions from the test data\n",
        "pred_rf = regr.predict(test_X)\n",
        "\n",
        "# Set any negative predictions to 0\n",
        "pred_rf[np.where(pred_rf<0)]=0\n",
        "\n",
        "# Plot outputs\n",
        "plt.scatter(range(len(test_Y)), test_Y,  color='black')\n",
        "plt.scatter(range(len(pred_rf)), pred_rf, color='blue', linewidth=3)\n",
        "print(\"RMSE, R2 for Decision Trees=\", MSE(test_Y,pred_rf), r2(test_Y,pred_rf)) #[Low error high corr]"
      ],
      "execution_count": null,
      "outputs": [
        {
          "output_type": "stream",
          "text": [
            "RMSE, R2 for Decision Trees= 0.000637749837098981 0.8466781673103282\n"
          ],
          "name": "stdout"
        },
        {
          "output_type": "display_data",
          "data": {
            "image/png": "[encoded data removed]",
            "text/plain": [
              "<Figure size 432x288 with 1 Axes>"
            ]
          },
          "metadata": {
            "tags": [],
            "needs_background": "light"
          }
        }
      ]
    },
    {
      "cell_type": "markdown",
      "metadata": {
        "id": "WddJkKQgdnOO"
      },
      "source": [
        "## RMSE and R2 after finding optimal hyperparameters\n",
        "## Results (Optimal Parameters) \n",
        "---------------------------------------------------------------------------\n",
        "Method Grid                                         |  RMSE             | R2               | \n",
        "-------------------------------------------------------------------------------------\n",
        "1. Regularized Normal Equations | 0.000354068254990827149 | 0.04794804754463948\n",
        "2. Decision Trees | 0.0006314971123477428 | 0.818329515038435"
      ]
    },
    {
      "cell_type": "code",
      "metadata": {
        "id": "8ebWw4k2tose"
      },
      "source": [
        "# initialize parameters randomly\n",
        "W = 0.01 * np.random.randn(train_X.shape[1],1)\n",
        "b = np.zeros((1, 1))\n",
        "W2 = 0.01 * np.random.randn(1, 1)\n",
        "b2 = np.zeros((1, 1))\n",
        "\n",
        "# some hyperparameters\n",
        "step_size = 1e-0\n",
        "reg = 1e-3 # regularization strength\n",
        "\n",
        "# gradient descent loop\n",
        "num_examples = train_X.shape[0]\n",
        "for i in range(1000):\n",
        "\n",
        "  # evaluate class scores\n",
        "  hidden_layer = np.maximum(0, np.dot(train_X, W) + b) # ReLU activation\n",
        "  scores = np.dot(hidden_layer, W2) + b2\n",
        "\n",
        "  exp_scores = np.exp(scores)\n",
        "  probs = exp_scores / np.sum(exp_scores, axis=1, keepdims=True) # [NxK]"
      ],
      "execution_count": null,
      "outputs": []
    }
  ]
}