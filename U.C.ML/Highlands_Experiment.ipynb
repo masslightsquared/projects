{
  "nbformat": 4,
  "nbformat_minor": 0,
  "metadata": {
    "kernelspec": {
      "display_name": "Python 3",
      "language": "python",
      "name": "python3"
    },
    "language_info": {
      "codemirror_mode": {
        "name": "ipython",
        "version": 3
      },
      "file_extension": ".py",
      "mimetype": "text/x-python",
      "name": "python",
      "nbconvert_exporter": "python",
      "pygments_lexer": "ipython3",
      "version": "3.7.4"
    },
    "colab": {
      "name": "Highlands Experiment.ipynb",
      "provenance": []
    }
  },
  "cells": [
    {
      "cell_type": "markdown",
      "metadata": {
        "id": "yzDdMd9FgPRg"
      },
      "source": [
        "### Motivation: \n",
        "Given spreadsheet containing Building Description, Employee Type Description, First Name, Last Name, Street Address, City, State, Zip, Primary Phone, and Deduction Code, determine probability of membership by dataset example. "
      ]
    },
    {
      "cell_type": "markdown",
      "metadata": {
        "id": "KCZB4U-UhKKU"
      },
      "source": [
        "## Import packages"
      ]
    },
    {
      "cell_type": "code",
      "metadata": {
        "id": "7ue6kPy_gPRj"
      },
      "source": [
        "import pandas as pd\n",
        "import numpy as np"
      ],
      "execution_count": 1,
      "outputs": []
    },
    {
      "cell_type": "code",
      "metadata": {
        "id": "pXQodAd4gwUP"
      },
      "source": [
        "!pip install -U -q PyDrive\n",
        "from pydrive.auth import GoogleAuth\n",
        "from pydrive.drive import GoogleDrive\n",
        "from google.colab import auth\n",
        "from oauth2client.client import GoogleCredentials\n",
        "from sklearn.model_selection import train_test_split"
      ],
      "execution_count": 2,
      "outputs": []
    },
    {
      "cell_type": "markdown",
      "metadata": {
        "id": "4nv9OoAZh4mC"
      },
      "source": [
        "## Load the data"
      ]
    },
    {
      "cell_type": "code",
      "metadata": {
        "id": "W_evwdmggz93"
      },
      "source": [
        "auth.authenticate_user()\n",
        "gauth = GoogleAuth()\n",
        "gauth.credentials = GoogleCredentials.get_application_default()\n",
        "drive = GoogleDrive(gauth)"
      ],
      "execution_count": 3,
      "outputs": []
    },
    {
      "cell_type": "code",
      "metadata": {
        "id": "-GeJOiMOg2o7"
      },
      "source": [
        "Q12 = drive.CreateFile({'id':'1iO-G9Qh0aaNTljixoB0Jl5ErodzK9j72'}) \n",
        "Q12.GetContentFile('HBUnit.csv') "
      ],
      "execution_count": 4,
      "outputs": []
    },
    {
      "cell_type": "code",
      "metadata": {
        "id": "YO_0ivW5gPRn",
        "colab": {
          "base_uri": "https://localhost:8080/",
          "height": 563
        },
        "outputId": "c1d16c9e-8c54-44d9-cb83-f2c9eced6c38"
      },
      "source": [
        "# Load dataset\n",
        "df_train = pd.read_csv('HBUnit.csv')\n",
        "print(f'shape of data: {df_train.shape}')\n",
        "# Display the first 5 rows\n",
        "df_train.head(10)"
      ],
      "execution_count": 5,
      "outputs": [
        {
          "output_type": "stream",
          "text": [
            "shape of data: (1420, 8)\n"
          ],
          "name": "stdout"
        },
        {
          "output_type": "execute_result",
          "data": {
            "text/html": [
              "<div>\n",
              "<style scoped>\n",
              "    .dataframe tbody tr th:only-of-type {\n",
              "        vertical-align: middle;\n",
              "    }\n",
              "\n",
              "    .dataframe tbody tr th {\n",
              "        vertical-align: top;\n",
              "    }\n",
              "\n",
              "    .dataframe thead th {\n",
              "        text-align: right;\n",
              "    }\n",
              "</style>\n",
              "<table border=\"1\" class=\"dataframe\">\n",
              "  <thead>\n",
              "    <tr style=\"text-align: right;\">\n",
              "      <th></th>\n",
              "      <th>Building Description</th>\n",
              "      <th>Employee Type Description</th>\n",
              "      <th>First Name</th>\n",
              "      <th>Last Name</th>\n",
              "      <th>Street Address</th>\n",
              "      <th>City/State/Zip</th>\n",
              "      <th>Primary Phone</th>\n",
              "      <th>Deduction Code</th>\n",
              "    </tr>\n",
              "  </thead>\n",
              "  <tbody>\n",
              "    <tr>\n",
              "      <th>0</th>\n",
              "      <td>APH</td>\n",
              "      <td>BOOKKPR SCHOOL</td>\n",
              "      <td>MILDRED M</td>\n",
              "      <td>CARABALLO</td>\n",
              "      <td>2383 N CHARLINE RD</td>\n",
              "      <td>AVON PARK FL 33825-0000</td>\n",
              "      <td>(863) 214-3052</td>\n",
              "      <td>NaN</td>\n",
              "    </tr>\n",
              "    <tr>\n",
              "      <th>1</th>\n",
              "      <td>SHS</td>\n",
              "      <td>BOOKKPR SCHOOL</td>\n",
              "      <td>NATALIE O</td>\n",
              "      <td>GRUBB</td>\n",
              "      <td>2040 ALAN ST</td>\n",
              "      <td>SEBRING FL 33875-0000</td>\n",
              "      <td>(863) 385-5209</td>\n",
              "      <td>NaN</td>\n",
              "    </tr>\n",
              "    <tr>\n",
              "      <th>2</th>\n",
              "      <td>LPH</td>\n",
              "      <td>BOOKKPR SCHOOL</td>\n",
              "      <td>GAYLE RENE</td>\n",
              "      <td>SAMPERI</td>\n",
              "      <td>42 LK HENRY DR</td>\n",
              "      <td>LAKE PLACID FL 33852</td>\n",
              "      <td>(863) 699-1994</td>\n",
              "      <td>NaN</td>\n",
              "    </tr>\n",
              "    <tr>\n",
              "      <th>3</th>\n",
              "      <td>TRANSPORTATION</td>\n",
              "      <td>BUS ATTENDANT</td>\n",
              "      <td>LYSTRA</td>\n",
              "      <td>CALLAHAN</td>\n",
              "      <td>335 GLORIA BLVD</td>\n",
              "      <td>LAKE PLACID FL 33852-0000</td>\n",
              "      <td>(863) 243-3929</td>\n",
              "      <td>UHCS2</td>\n",
              "    </tr>\n",
              "    <tr>\n",
              "      <th>4</th>\n",
              "      <td>TRANSPORTATION</td>\n",
              "      <td>BUS ATTENDANT</td>\n",
              "      <td>IRVING</td>\n",
              "      <td>CRUZ CHAVEZ</td>\n",
              "      <td>112 IMBROS AVE NE</td>\n",
              "      <td>LAKE PLACID FL 33852</td>\n",
              "      <td>(863) 243-0618</td>\n",
              "      <td>NaN</td>\n",
              "    </tr>\n",
              "    <tr>\n",
              "      <th>5</th>\n",
              "      <td>TRANSPORTATION</td>\n",
              "      <td>BUS ATTENDANT</td>\n",
              "      <td>PATRICIA CLYDE</td>\n",
              "      <td>FLORY</td>\n",
              "      <td>1920 JERI KAY LN</td>\n",
              "      <td>SEBRING FL 33870</td>\n",
              "      <td>(863) 368-1557</td>\n",
              "      <td>UHCS2</td>\n",
              "    </tr>\n",
              "    <tr>\n",
              "      <th>6</th>\n",
              "      <td>TRANSPORTATION</td>\n",
              "      <td>BUS ATTENDANT</td>\n",
              "      <td>LUCINDA FAYE</td>\n",
              "      <td>FOSTER</td>\n",
              "      <td>3202 AVERY CT</td>\n",
              "      <td>SEBRING FL 33870-0000</td>\n",
              "      <td>(907) 888-0948</td>\n",
              "      <td>NaN</td>\n",
              "    </tr>\n",
              "    <tr>\n",
              "      <th>7</th>\n",
              "      <td>TRANSPORTATION</td>\n",
              "      <td>BUS ATTENDANT</td>\n",
              "      <td>BARBARA ELLEN</td>\n",
              "      <td>FRASER</td>\n",
              "      <td>1404 FERNVALE AVE</td>\n",
              "      <td>SEBRING FL 33870-0000</td>\n",
              "      <td>(863) 471-9984</td>\n",
              "      <td>NaN</td>\n",
              "    </tr>\n",
              "    <tr>\n",
              "      <th>8</th>\n",
              "      <td>TRANSPORTATION</td>\n",
              "      <td>BUS ATTENDANT</td>\n",
              "      <td>DOROTHY SAMARE MITCHELL</td>\n",
              "      <td>GRANT</td>\n",
              "      <td>1874 JONES DR</td>\n",
              "      <td>SEBRING FL 33870-0000</td>\n",
              "      <td>(863) 253-0819</td>\n",
              "      <td>UHCS2</td>\n",
              "    </tr>\n",
              "    <tr>\n",
              "      <th>9</th>\n",
              "      <td>TRANSPORTATION</td>\n",
              "      <td>BUS ATTENDANT</td>\n",
              "      <td>PATRICIA ANN</td>\n",
              "      <td>GROSS</td>\n",
              "      <td>3152 HOOVER AVE</td>\n",
              "      <td>LAKE PLACID FL 33852</td>\n",
              "      <td>(863) 465-7359</td>\n",
              "      <td>NaN</td>\n",
              "    </tr>\n",
              "  </tbody>\n",
              "</table>\n",
              "</div>"
            ],
            "text/plain": [
              "  Building Description Employee Type Description  ...   Primary Phone Deduction Code\n",
              "0                  APH            BOOKKPR SCHOOL  ...  (863) 214-3052            NaN\n",
              "1                  SHS            BOOKKPR SCHOOL  ...  (863) 385-5209            NaN\n",
              "2                  LPH            BOOKKPR SCHOOL  ...  (863) 699-1994            NaN\n",
              "3       TRANSPORTATION             BUS ATTENDANT  ...  (863) 243-3929          UHCS2\n",
              "4       TRANSPORTATION             BUS ATTENDANT  ...  (863) 243-0618            NaN\n",
              "5       TRANSPORTATION             BUS ATTENDANT  ...  (863) 368-1557          UHCS2\n",
              "6       TRANSPORTATION             BUS ATTENDANT  ...  (907) 888-0948            NaN\n",
              "7       TRANSPORTATION             BUS ATTENDANT  ...  (863) 471-9984            NaN\n",
              "8       TRANSPORTATION             BUS ATTENDANT  ...  (863) 253-0819          UHCS2\n",
              "9       TRANSPORTATION             BUS ATTENDANT  ...  (863) 465-7359            NaN\n",
              "\n",
              "[10 rows x 8 columns]"
            ]
          },
          "metadata": {
            "tags": []
          },
          "execution_count": 5
        }
      ]
    },
    {
      "cell_type": "markdown",
      "metadata": {
        "id": "y2oOCv7pgoSt"
      },
      "source": [
        "## Data Preprocessing / Wrangling"
      ]
    },
    {
      "cell_type": "code",
      "metadata": {
        "id": "crKvkvLNEvD8"
      },
      "source": [
        "# place values of 'City/State/Zip' into a list\n",
        "test = df_train['City/State/Zip'].values.tolist()\n",
        "# split each item in the list by 'FL' and update df_train\n",
        "df_train['City/State/Zip'] = [i.split('FL ', 1)[1] for i in test]\n",
        "# split each item in the list by '-' and update df_train\n",
        "df_train['City/State/Zip'] = [i.split('-',1)[0] for i in df_train['City/State/Zip']]\n",
        "# rename 'City/State/Zip' to 'Zip'\n",
        "df_train = df_train.rename(columns={'City/State/Zip': 'Zip'}) "
      ],
      "execution_count": 8,
      "outputs": []
    },
    {
      "cell_type": "markdown",
      "metadata": {
        "id": "az-xO9Wnh_yZ"
      },
      "source": [
        "### Drop redundant features"
      ]
    },
    {
      "cell_type": "code",
      "metadata": {
        "id": "_TIjHQWqiCd-",
        "colab": {
          "base_uri": "https://localhost:8080/"
        },
        "outputId": "8c5049c1-113a-4cbb-80db-b19d9826cfbd"
      },
      "source": [
        "# Drop columns 'First Name', 'Last Name', 'Street Address', 'Primary Phone'\n",
        "df_train = df_train.drop(columns=['First Name', 'Last Name', 'Street Address', 'Primary Phone'])\n",
        "print(f'new shape: {df_train.shape}')\n",
        "print(f'Remaining Features: {df_train.columns.tolist()}')"
      ],
      "execution_count": 9,
      "outputs": [
        {
          "output_type": "stream",
          "text": [
            "new shape: (1420, 4)\n",
            "Remaining Features: ['Building Description', 'Employee Type Description', 'Zip', 'Deduction Code']\n"
          ],
          "name": "stdout"
        }
      ]
    },
    {
      "cell_type": "markdown",
      "metadata": {
        "id": "-wCC4QaWLgah"
      },
      "source": [
        "### Find the non-numeric features"
      ]
    },
    {
      "cell_type": "code",
      "metadata": {
        "colab": {
          "base_uri": "https://localhost:8080/"
        },
        "id": "teWF0wgJLlVI",
        "outputId": "429ff59b-579c-4908-dbfa-2beaeeeaf133"
      },
      "source": [
        "df_train.dtypes"
      ],
      "execution_count": 10,
      "outputs": [
        {
          "output_type": "execute_result",
          "data": {
            "text/plain": [
              "Building Description         object\n",
              "Employee Type Description    object\n",
              "Zip                          object\n",
              "Deduction Code               object\n",
              "dtype: object"
            ]
          },
          "metadata": {
            "tags": []
          },
          "execution_count": 10
        }
      ]
    },
    {
      "cell_type": "markdown",
      "metadata": {
        "id": "BMCv0jw9LsO2"
      },
      "source": [
        "### Print the unique values of the non-numeric features"
      ]
    },
    {
      "cell_type": "code",
      "metadata": {
        "colab": {
          "base_uri": "https://localhost:8080/"
        },
        "id": "9B7kLYR-LxLg",
        "outputId": "b18ff804-2cad-4923-ca95-b0c04f9ff2e4"
      },
      "source": [
        "len(df_train['Building Description'].unique())"
      ],
      "execution_count": 11,
      "outputs": [
        {
          "output_type": "execute_result",
          "data": {
            "text/plain": [
              "33"
            ]
          },
          "metadata": {
            "tags": []
          },
          "execution_count": 11
        }
      ]
    },
    {
      "cell_type": "code",
      "metadata": {
        "colab": {
          "base_uri": "https://localhost:8080/"
        },
        "id": "KxGuZHcfLrTJ",
        "outputId": "e664a897-e049-4bcd-e3c0-917c6f585e9b"
      },
      "source": [
        "len(df_train['Employee Type Description'].unique())"
      ],
      "execution_count": 12,
      "outputs": [
        {
          "output_type": "execute_result",
          "data": {
            "text/plain": [
              "42"
            ]
          },
          "metadata": {
            "tags": []
          },
          "execution_count": 12
        }
      ]
    },
    {
      "cell_type": "code",
      "metadata": {
        "colab": {
          "base_uri": "https://localhost:8080/"
        },
        "id": "tFQg4GdwL5dw",
        "outputId": "19fbc8b5-089a-4da9-ad97-cbfc49773725"
      },
      "source": [
        "len(df_train['Zip'].unique())"
      ],
      "execution_count": 13,
      "outputs": [
        {
          "output_type": "execute_result",
          "data": {
            "text/plain": [
              "31"
            ]
          },
          "metadata": {
            "tags": []
          },
          "execution_count": 13
        }
      ]
    },
    {
      "cell_type": "code",
      "metadata": {
        "colab": {
          "base_uri": "https://localhost:8080/"
        },
        "id": "Et-ef0y5L9J4",
        "outputId": "24483e34-3e6e-4ba7-b3f3-21061ed0f287"
      },
      "source": [
        "df_train['Deduction Code'].unique()"
      ],
      "execution_count": 14,
      "outputs": [
        {
          "output_type": "execute_result",
          "data": {
            "text/plain": [
              "array([nan, 'UHCS2', 'UHCS1', 'UHCEA'], dtype=object)"
            ]
          },
          "metadata": {
            "tags": []
          },
          "execution_count": 14
        }
      ]
    },
    {
      "cell_type": "markdown",
      "metadata": {
        "id": "kVGP8ItTMEYg"
      },
      "source": [
        "### Assign numerical mappings to deduction codes and replace NaNs with 0s"
      ]
    },
    {
      "cell_type": "code",
      "metadata": {
        "id": "eedYa55xgPRt"
      },
      "source": [
        "binary_columns = ['Deduction Code']\n",
        "# Create a dictionary in which the keys map to the values\n",
        "# Remember, we want to replace 'no' and 'yes' with the appropriate integers\n",
        "binary_mapping = {'UHCS1': 1.0, 'UHCEA': 1.0, 'UHCS2': 1.0}\n",
        "# Map the binary columns\n",
        "for col in binary_columns:\n",
        "    # Apply the mapping to the current column with the map() method for Pandas Series\n",
        "    df_train[col] = df_train[col].map(binary_mapping)\n",
        "    # Fill NaN values with 0\n",
        "    df_train[col] = df_train[col].fillna(0)"
      ],
      "execution_count": 15,
      "outputs": []
    },
    {
      "cell_type": "markdown",
      "metadata": {
        "id": "X1YmU7engSlU"
      },
      "source": [
        "\n",
        "### Replace categorical features with numerical features\n",
        "\n",
        "\n"
      ]
    },
    {
      "cell_type": "code",
      "metadata": {
        "id": "J0HI8feuU9Gf"
      },
      "source": [
        "from sklearn.preprocessing import LabelEncoder, OneHotEncoder\n",
        "encoder = LabelEncoder()\n",
        "\n",
        "building_labels = encoder.fit_transform(df_train['Building Description'])\n",
        "df_train['Building Description'] = building_labels\n",
        "\n",
        "employee_labels = encoder.fit_transform(df_train['Employee Type Description'])\n",
        "df_train['Employee Type Description'] = employee_labels\n",
        "\n",
        "zip_labels = encoder.fit_transform(df_train['Zip'])\n",
        "df_train['Zip'] = zip_labels"
      ],
      "execution_count": 16,
      "outputs": []
    },
    {
      "cell_type": "markdown",
      "metadata": {
        "id": "_QK_VwdndyX9"
      },
      "source": [
        "### Inspect how balanced y is\n",
        "For a balanced binary target, approximately half of its entries will be 1"
      ]
    },
    {
      "cell_type": "code",
      "metadata": {
        "colab": {
          "base_uri": "https://localhost:8080/"
        },
        "id": "NpzCQFshdOMS",
        "outputId": "1459e65e-2bcf-4636-e2b8-440d090fa698"
      },
      "source": [
        "y = df_train['Deduction Code']\n",
        "fraction = y.value_counts()[1] / y.value_counts()[0]\n",
        "print('proportion of positive values: %.3f ' % (fraction))"
      ],
      "execution_count": 17,
      "outputs": [
        {
          "output_type": "stream",
          "text": [
            "proportion of positive values: 0.573 \n"
          ],
          "name": "stdout"
        }
      ]
    },
    {
      "cell_type": "markdown",
      "metadata": {
        "id": "0_-_jmvAegX8"
      },
      "source": [
        "Task 1: To find the optimal set of features for this data set. Visualize each feature's contribution to separate Non_member=0 from Member=1, and select the top two features (for scatter plot)"
      ]
    },
    {
      "cell_type": "code",
      "metadata": {
        "colab": {
          "base_uri": "https://localhost:8080/"
        },
        "id": "hPiKceSoek3Z",
        "outputId": "08dd7cee-930e-4b01-fa65-70c9b877e51c"
      },
      "source": [
        "from sklearn.feature_selection import RFE\n",
        "from sklearn.linear_model import RidgeCV, LassoCV, Ridge, Lasso\n",
        "from sklearn.ensemble import RandomForestClassifier\n",
        "import matplotlib.pyplot as plt\n",
        "import seaborn as sns\n",
        "print(f'The training data currently has {df_train.shape[1]} features')"
      ],
      "execution_count": 18,
      "outputs": [
        {
          "output_type": "stream",
          "text": [
            "The training data currently has 4 features\n"
          ],
          "name": "stdout"
        }
      ]
    },
    {
      "cell_type": "code",
      "metadata": {
        "colab": {
          "base_uri": "https://localhost:8080/",
          "height": 596
        },
        "id": "l7MNBeXBerOU",
        "outputId": "c1b47de4-4b83-44cc-ccd8-bc4c81237267"
      },
      "source": [
        "#Visual inspection of features\n",
        "plt.figure(figsize=(12,10))\n",
        "### START CODE HERE ###\n",
        "# Compute the Pearson Correlation of each feature in the training df\n",
        "cor = df_train.corr()\n",
        "### END CODE HERE ###\n",
        "# Plot the correlations\n",
        "sns.heatmap(cor.abs())\n",
        "plt.show()\n",
        "# Some intersting correlations pop up that need further analysis (later)\n",
        "# we need to eliminate features that have very high absolute correlations"
      ],
      "execution_count": 19,
      "outputs": [
        {
          "output_type": "display_data",
          "data": {
            "image/png": "[encoded data removed]",
            "text/plain": [
              "<Figure size 864x720 with 2 Axes>"
            ]
          },
          "metadata": {
            "tags": [],
            "needs_background": "light"
          }
        }
      ]
    },
    {
      "cell_type": "markdown",
      "metadata": {
        "id": "iDPDfC3xe8G9"
      },
      "source": [
        "### Drop features with high correlations"
      ]
    },
    {
      "cell_type": "code",
      "metadata": {
        "colab": {
          "base_uri": "https://localhost:8080/",
          "height": 306
        },
        "id": "4IAOj_V7eulZ",
        "outputId": "b6ced28c-6f1f-4871-a529-306e4e9ced06"
      },
      "source": [
        "### START CODE HERE ###\n",
        "# Initialize a list indicating whether to keep a column in the training df\n",
        "# For now, set all entries to True\n",
        "keep_columns = np.full((cor.shape[0],), True, dtype=bool)\n",
        "# Loop over all columns\n",
        "for i in range(cor.shape[0]-1):\n",
        "    # Loop over all columns to the right of the current one\n",
        "    for j in range(i+1, cor.shape[0]-1):\n",
        "        # If the absolute correlation between the current two columns is greater than or equal to 0.8, or no correlation 0 value...\n",
        "        if (np.abs(cor.iloc[i,j]) >= 0.8):\n",
        "            # If we haven't already told the keep_columns list to drop column j...\n",
        "            if keep_columns[j]:\n",
        "                # Drop column j\n",
        "                keep_columns[j] = False\n",
        "# Extract the columns to keep from the training df\n",
        "selected_columns = df_train.columns[keep_columns]\n",
        "# Make a new df with the columns we've decided to keep from the training df\n",
        "X_out = df_train[selected_columns]\n",
        "### END CODE HERE ###\n",
        "print('The following columns are present in the new data:')\n",
        "print(selected_columns)\n",
        "print(f'The old data had {df_train.shape[1]} features. The new df has {X_out.shape[1]} features.')\n",
        "print(df_train.shape)\n",
        "X_out.head()"
      ],
      "execution_count": 20,
      "outputs": [
        {
          "output_type": "stream",
          "text": [
            "The following columns are present in the new data:\n",
            "Index(['Building Description', 'Employee Type Description', 'Zip',\n",
            "       'Deduction Code'],\n",
            "      dtype='object')\n",
            "The old data had 4 features. The new df has 4 features.\n",
            "(1420, 4)\n"
          ],
          "name": "stdout"
        },
        {
          "output_type": "execute_result",
          "data": {
            "text/html": [
              "<div>\n",
              "<style scoped>\n",
              "    .dataframe tbody tr th:only-of-type {\n",
              "        vertical-align: middle;\n",
              "    }\n",
              "\n",
              "    .dataframe tbody tr th {\n",
              "        vertical-align: top;\n",
              "    }\n",
              "\n",
              "    .dataframe thead th {\n",
              "        text-align: right;\n",
              "    }\n",
              "</style>\n",
              "<table border=\"1\" class=\"dataframe\">\n",
              "  <thead>\n",
              "    <tr style=\"text-align: right;\">\n",
              "      <th></th>\n",
              "      <th>Building Description</th>\n",
              "      <th>Employee Type Description</th>\n",
              "      <th>Zip</th>\n",
              "      <th>Deduction Code</th>\n",
              "    </tr>\n",
              "  </thead>\n",
              "  <tbody>\n",
              "    <tr>\n",
              "      <th>0</th>\n",
              "      <td>2</td>\n",
              "      <td>0</td>\n",
              "      <td>3</td>\n",
              "      <td>0.0</td>\n",
              "    </tr>\n",
              "    <tr>\n",
              "      <th>1</th>\n",
              "      <td>26</td>\n",
              "      <td>0</td>\n",
              "      <td>17</td>\n",
              "      <td>0.0</td>\n",
              "    </tr>\n",
              "    <tr>\n",
              "      <th>2</th>\n",
              "      <td>18</td>\n",
              "      <td>0</td>\n",
              "      <td>9</td>\n",
              "      <td>0.0</td>\n",
              "    </tr>\n",
              "    <tr>\n",
              "      <th>3</th>\n",
              "      <td>30</td>\n",
              "      <td>1</td>\n",
              "      <td>9</td>\n",
              "      <td>1.0</td>\n",
              "    </tr>\n",
              "    <tr>\n",
              "      <th>4</th>\n",
              "      <td>30</td>\n",
              "      <td>1</td>\n",
              "      <td>9</td>\n",
              "      <td>0.0</td>\n",
              "    </tr>\n",
              "  </tbody>\n",
              "</table>\n",
              "</div>"
            ],
            "text/plain": [
              "   Building Description  Employee Type Description  Zip  Deduction Code\n",
              "0                     2                          0    3             0.0\n",
              "1                    26                          0   17             0.0\n",
              "2                    18                          0    9             0.0\n",
              "3                    30                          1    9             1.0\n",
              "4                    30                          1    9             0.0"
            ]
          },
          "metadata": {
            "tags": []
          },
          "execution_count": 20
        }
      ]
    },
    {
      "cell_type": "markdown",
      "metadata": {
        "id": "h7Fey-3ZfNp1"
      },
      "source": [
        "## Feature Selection on p-value (statistical significance to Y value) "
      ]
    },
    {
      "cell_type": "code",
      "metadata": {
        "id": "1rYTsd6efAJZ",
        "colab": {
          "base_uri": "https://localhost:8080/"
        },
        "outputId": "f79e844a-ac70-4877-896e-cd8253af4ce5"
      },
      "source": [
        "selected_columns = selected_columns[0:]\n",
        "import statsmodels.api as sm\n",
        "def backwardElimination(x, y, sl, columns):\n",
        "    numVars = len(x[0])\n",
        "    for i in range(0, numVars):\n",
        "        regressor_OLS = sm.OLS(y, x).fit()\n",
        "        #maxVar = max(regressor_OLS.pvalues).astype(float)\n",
        "        maxVar = max(regressor_OLS.pvalues)\n",
        "        if maxVar > sl:\n",
        "            for j in range(0, numVars - i):\n",
        "                if (regressor_OLS.pvalues[j].astype(float) == maxVar):\n",
        "                    x = np.delete(x, j, 1)\n",
        "                    columns = np.delete(columns, j)\n",
        "                    \n",
        "    regressor_OLS.summary()\n",
        "    return x, columns\n",
        "SL = 0.01\n",
        "# Note that we're passing in df_out, not df_train\n",
        "data_modeled, selected_columns = backwardElimination(X_out.values, y, SL, selected_columns)"
      ],
      "execution_count": 21,
      "outputs": [
        {
          "output_type": "stream",
          "text": [
            "/usr/local/lib/python3.6/dist-packages/statsmodels/tools/_testing.py:19: FutureWarning: pandas.util.testing is deprecated. Use the functions in the public API at pandas.testing instead.\n",
            "  import pandas.util.testing as tm\n"
          ],
          "name": "stderr"
        }
      ]
    },
    {
      "cell_type": "code",
      "metadata": {
        "colab": {
          "base_uri": "https://localhost:8080/"
        },
        "id": "8cDUstRrfYCy",
        "outputId": "1817c9c0-8d80-4d93-adcf-3aa6bde38c38"
      },
      "source": [
        "print('The following columns remain based on p-value selection:')\n",
        "print(selected_columns)\n",
        "# Make a reduced df\n",
        "data_red = pd.DataFrame(data = data_modeled, columns = selected_columns)\n",
        "print(f'After selection by Pearson Correlation, we had {X_out.shape[1]} features.')\n",
        "print(f'After selection by p-value, we have {data_red.shape[1]} features.')"
      ],
      "execution_count": 22,
      "outputs": [
        {
          "output_type": "stream",
          "text": [
            "The following columns remain based on p-value selection:\n",
            "Index(['Building Description', 'Employee Type Description', 'Deduction Code'], dtype='object')\n",
            "After selection by Pearson Correlation, we had 4 features.\n",
            "After selection by p-value, we have 3 features.\n"
          ],
          "name": "stdout"
        }
      ]
    },
    {
      "cell_type": "markdown",
      "metadata": {
        "id": "_8gfNX2UfnQk"
      },
      "source": [
        "### Visualize the selected features\n",
        "\n",
        "Ignore the warning messages about distplot. "
      ]
    },
    {
      "cell_type": "code",
      "metadata": {
        "colab": {
          "base_uri": "https://localhost:8080/",
          "height": 948
        },
        "id": "HmI-fBQkfjvK",
        "outputId": "216b868a-b5a4-4f15-d8d0-bec52bf7c56a"
      },
      "source": [
        "fig = plt.figure(figsize = (20, 25))\n",
        "j = 0\n",
        "for i in data_red.columns:\n",
        "    plt.subplot(3, 4, j+1)\n",
        "    j += 1\n",
        "    sns.distplot(data_red[i][data_red['Deduction Code']==0], color='g', label = 'no')\n",
        "    sns.distplot(data_red[i][data_red['Deduction Code']==1], color='r', label = 'yes')\n",
        "    plt.legend(loc='best')\n",
        "fig.suptitle('Subscription Feature Analysis')\n",
        "fig.tight_layout()\n",
        "fig.subplots_adjust(top=0.95)\n",
        "plt.show()"
      ],
      "execution_count": 23,
      "outputs": [
        {
          "output_type": "stream",
          "text": [
            "/usr/local/lib/python3.6/dist-packages/seaborn/distributions.py:2551: FutureWarning: `distplot` is a deprecated function and will be removed in a future version. Please adapt your code to use either `displot` (a figure-level function with similar flexibility) or `histplot` (an axes-level function for histograms).\n",
            "  warnings.warn(msg, FutureWarning)\n",
            "/usr/local/lib/python3.6/dist-packages/seaborn/distributions.py:2551: FutureWarning: `distplot` is a deprecated function and will be removed in a future version. Please adapt your code to use either `displot` (a figure-level function with similar flexibility) or `histplot` (an axes-level function for histograms).\n",
            "  warnings.warn(msg, FutureWarning)\n",
            "/usr/local/lib/python3.6/dist-packages/seaborn/distributions.py:2551: FutureWarning: `distplot` is a deprecated function and will be removed in a future version. Please adapt your code to use either `displot` (a figure-level function with similar flexibility) or `histplot` (an axes-level function for histograms).\n",
            "  warnings.warn(msg, FutureWarning)\n",
            "/usr/local/lib/python3.6/dist-packages/seaborn/distributions.py:2551: FutureWarning: `distplot` is a deprecated function and will be removed in a future version. Please adapt your code to use either `displot` (a figure-level function with similar flexibility) or `histplot` (an axes-level function for histograms).\n",
            "  warnings.warn(msg, FutureWarning)\n",
            "/usr/local/lib/python3.6/dist-packages/seaborn/distributions.py:2551: FutureWarning: `distplot` is a deprecated function and will be removed in a future version. Please adapt your code to use either `displot` (a figure-level function with similar flexibility) or `histplot` (an axes-level function for histograms).\n",
            "  warnings.warn(msg, FutureWarning)\n",
            "/usr/local/lib/python3.6/dist-packages/seaborn/distributions.py:305: UserWarning: Dataset has 0 variance; skipping density estimate.\n",
            "  warnings.warn(msg, UserWarning)\n",
            "/usr/local/lib/python3.6/dist-packages/seaborn/distributions.py:2551: FutureWarning: `distplot` is a deprecated function and will be removed in a future version. Please adapt your code to use either `displot` (a figure-level function with similar flexibility) or `histplot` (an axes-level function for histograms).\n",
            "  warnings.warn(msg, FutureWarning)\n",
            "/usr/local/lib/python3.6/dist-packages/seaborn/distributions.py:305: UserWarning: Dataset has 0 variance; skipping density estimate.\n",
            "  warnings.warn(msg, UserWarning)\n"
          ],
          "name": "stderr"
        },
        {
          "output_type": "display_data",
          "data": {
            "image/png": "[encoded data removed]",
            "text/plain": [
              "<Figure size 1440x1800 with 3 Axes>"
            ]
          },
          "metadata": {
            "tags": [],
            "needs_background": "light"
          }
        }
      ]
    },
    {
      "cell_type": "markdown",
      "metadata": {
        "id": "PyKBGPLJjbMc"
      },
      "source": [
        "### Drop deduction code from the features of X_train and scale the features so the max norm of each feature is 1. Also, convert the X DataFrames and y Series to NumPy arrays for use with the visualization convenience function which we'll set up next."
      ]
    },
    {
      "cell_type": "code",
      "metadata": {
        "id": "9vQv-I7vfv9j"
      },
      "source": [
        "from sklearn.preprocessing import normalize\n",
        "X_train = data_red.drop(columns='Deduction Code')\n",
        "X_train = normalize(X_train, axis=0, norm='max')\n",
        "y_train = df_train['Deduction Code'].values"
      ],
      "execution_count": 24,
      "outputs": []
    },
    {
      "cell_type": "code",
      "metadata": {
        "id": "fUCxJhb0khrw",
        "colab": {
          "base_uri": "https://localhost:8080/"
        },
        "outputId": "b4d276b3-9b29-47fa-e5c7-7b5199631c8c"
      },
      "source": [
        "indices = np.arange(df_train.shape[0])\n",
        "X_train, X_test, y_train, y_test, idx1, idx2 = train_test_split(X_train, y, indices, test_size=0.33)\n",
        "print(X_train.shape)\n",
        "print(X_test.shape)"
      ],
      "execution_count": 25,
      "outputs": [
        {
          "output_type": "stream",
          "text": [
            "(951, 2)\n",
            "(469, 2)\n"
          ],
          "name": "stdout"
        }
      ]
    },
    {
      "cell_type": "code",
      "metadata": {
        "colab": {
          "base_uri": "https://localhost:8080/",
          "height": 332
        },
        "id": "whl5h5ymk8T3",
        "outputId": "da5d6020-2c08-4c50-9ea7-d8ffeaa2b605"
      },
      "source": [
        "#Use Random Forest to get feature ranks/importances for each feature\n",
        "from sklearn.datasets import make_classification\n",
        "from sklearn.ensemble import ExtraTreesClassifier\n",
        "\n",
        "# Build a forest and compute the impurity-based feature importances\n",
        "forest = ExtraTreesClassifier(n_estimators=20,\n",
        "                              random_state=0)\n",
        "\n",
        "forest.fit(X_train, y_train)\n",
        "importances = forest.feature_importances_\n",
        "std = np.std([tree.feature_importances_ for tree in forest.estimators_],\n",
        "             axis=0)\n",
        "indices = np.argsort(importances)[::-1]\n",
        "\n",
        "# Print the feature ranking\n",
        "print(\"Feature ranking:\")\n",
        "\n",
        "for f in range(X_train.shape[1]):\n",
        "    print(\"%d. feature %d (%f)\" % (f + 1, indices[f], importances[indices[f]]))\n",
        "\n",
        "# Plot the impurity-based feature importances of the forest\n",
        "plt.figure()\n",
        "plt.title(\"Feature importances\")\n",
        "plt.bar(range(X_train.shape[1]), importances[indices],\n",
        "        color=\"r\", yerr=std[indices], align=\"center\")\n",
        "plt.xticks(range(X_train.shape[1]), indices)\n",
        "plt.xlim([-1, X_train.shape[1]])\n",
        "plt.show()"
      ],
      "execution_count": 26,
      "outputs": [
        {
          "output_type": "stream",
          "text": [
            "Feature ranking:\n",
            "1. feature 1 (0.609430)\n",
            "2. feature 0 (0.390570)\n"
          ],
          "name": "stdout"
        },
        {
          "output_type": "display_data",
          "data": {
            "image/png": "[encoded data removed]",
            "text/plain": [
              "<Figure size 432x288 with 1 Axes>"
            ]
          },
          "metadata": {
            "tags": [],
            "needs_background": "light"
          }
        }
      ]
    },
    {
      "cell_type": "code",
      "metadata": {
        "id": "fGsNyeBxlXyT"
      },
      "source": [
        "# This function visualizes the classification output on scatter plot\n",
        "# Feature 1 (Interaction Time is used to observe the impact of low ranked feature)\n",
        "import matplotlib.pyplot as plt\n",
        "from mpl_toolkits import mplot3d\n",
        "def visualize_scatter_plot(X, y, yhat, title):\n",
        "    loc11=np.where((y>0) & (yhat>0),1,0) #TP\n",
        "    loc00=np.where((y==0) & (yhat==0),1,0) #TN\n",
        "    loc10=np.where((y>0) & (yhat==0),1,0) #FN\n",
        "    loc01=np.where((y==0) & (yhat>0),1,0) #FP\n",
        "    fig = plt.figure(figsize = (10, 7))\n",
        "    ax = plt.axes(projection =\"3d\")\n",
        "    ax.scatter3D(X[np.where(loc00>0),3],X[np.where(loc00>0),4],X[np.where(loc00>0),1],color='blue', marker='o')\n",
        "    ax.scatter3D(X[np.where(loc10>0),3],X[np.where(loc10>0),4],X[np.where(loc10>0),1],color='cyan', marker='o')\n",
        "    ax.scatter3D(X[np.where(loc11>0),3],X[np.where(loc11>0),4],X[np.where(loc11>0),1],color='red', marker='^')\n",
        "    ax.scatter3D(X[np.where(loc01>0),3],X[np.where(loc01>0),4],X[np.where(loc01>0),1],color='green', marker='^')\n",
        "    ax.set_xlabel('NumCart')\n",
        "    ax.set_ylabel('NumViews')\n",
        "    ax.set_zlabel('InteractionTime')\n",
        "    plt.title(title)\n",
        "    plt.show()"
      ],
      "execution_count": 27,
      "outputs": []
    },
    {
      "cell_type": "markdown",
      "metadata": {
        "id": "gC0Hg6flmFWr"
      },
      "source": [
        "## Task 2. Fit a linear model. Pick from SVM, LR. Report results\n",
        "Ensure each model is the fitted with the best hyperparameters. That includes mitigating the effects of any class imbalances."
      ]
    },
    {
      "cell_type": "markdown",
      "metadata": {
        "id": "QRZxkfAamS3L"
      },
      "source": [
        "### Import models, metrics, and convenience functions\n"
      ]
    },
    {
      "cell_type": "code",
      "metadata": {
        "id": "A4xC4vaCldmu"
      },
      "source": [
        "from sklearn.linear_model import LogisticRegression\n",
        "from sklearn.metrics import confusion_matrix\n",
        "from sklearn.metrics import accuracy_score as accuracy\n",
        "from sklearn.metrics import recall_score as recall\n",
        "from sklearn.metrics import precision_score as precision\n",
        "from sklearn.metrics import f1_score\n",
        "from sklearn.pipeline import make_pipeline\n",
        "from sklearn.preprocessing import StandardScaler\n",
        "from sklearn.svm import LinearSVC"
      ],
      "execution_count": 28,
      "outputs": []
    },
    {
      "cell_type": "markdown",
      "metadata": {
        "id": "gLoxVuI5myhF"
      },
      "source": [
        "### Instantiate, train, and predict with the model (Logistic Regression)"
      ]
    },
    {
      "cell_type": "code",
      "metadata": {
        "id": "rnB4ZTIMmZcZ"
      },
      "source": [
        "regb = LogisticRegression(random_state=0, class_weight='balanced').fit(X_train, y_train)\n",
        "reg_predb = regb.predict(X_test)"
      ],
      "execution_count": 29,
      "outputs": []
    },
    {
      "cell_type": "markdown",
      "metadata": {
        "id": "-aLbHhTQm6a7"
      },
      "source": [
        "#### Evaluate the predictions"
      ]
    },
    {
      "cell_type": "code",
      "metadata": {
        "colab": {
          "base_uri": "https://localhost:8080/"
        },
        "id": "piDokwrGmb0z",
        "outputId": "09f66406-49ef-4d18-cf98-7ec4ba6b7e51"
      },
      "source": [
        "cmlog = confusion_matrix(y_test, reg_predb)\n",
        "acc   = accuracy(y_test, reg_predb)\n",
        "rec   = recall(y_test, reg_predb)\n",
        "prec  = precision(y_test, reg_predb)\n",
        "f1    = f1_score(y_test, reg_predb)\n",
        "### END CODE HERE ###\n",
        "# Print the metrics, display the confusion matrix, and visualize the model\n",
        "print(f'Accuracy = {acc}, Precision = {prec}, Recall = {rec}, F1-score = {f1}')\n",
        "print('Confusion Matrix is:')\n",
        "print(cmlog)"
      ],
      "execution_count": 30,
      "outputs": [
        {
          "output_type": "stream",
          "text": [
            "Accuracy = 0.5437100213219617, Precision = 0.4357142857142857, Recall = 0.6853932584269663, F1-score = 0.5327510917030569\n",
            "Confusion Matrix is:\n",
            "[[133 158]\n",
            " [ 56 122]]\n"
          ],
          "name": "stdout"
        }
      ]
    },
    {
      "cell_type": "code",
      "metadata": {
        "colab": {
          "base_uri": "https://localhost:8080/"
        },
        "id": "aZvAQUoHmfLk",
        "outputId": "4305ea14-d726-440f-b51a-85925a1c6a7a"
      },
      "source": [
        "# Fine-tuning (Logistic Regression) \n",
        "from sklearn.model_selection import GridSearchCV\n",
        "\n",
        "param_grid = [\n",
        "              {'penalty': ['l2'] , 'C': [0.01,0.1,0.5,1,3]}\n",
        "              ]\n",
        "\n",
        "grid_search = GridSearchCV(regb, param_grid, cv=5, scoring='neg_mean_squared_error') \n",
        "\n",
        "grid_search.fit(X_train, y_train)"
      ],
      "execution_count": 31,
      "outputs": [
        {
          "output_type": "execute_result",
          "data": {
            "text/plain": [
              "GridSearchCV(cv=5, error_score=nan,\n",
              "             estimator=LogisticRegression(C=1.0, class_weight='balanced',\n",
              "                                          dual=False, fit_intercept=True,\n",
              "                                          intercept_scaling=1, l1_ratio=None,\n",
              "                                          max_iter=100, multi_class='auto',\n",
              "                                          n_jobs=None, penalty='l2',\n",
              "                                          random_state=0, solver='lbfgs',\n",
              "                                          tol=0.0001, verbose=0,\n",
              "                                          warm_start=False),\n",
              "             iid='deprecated', n_jobs=None,\n",
              "             param_grid=[{'C': [0.01, 0.1, 0.5, 1, 3], 'penalty': ['l2']}],\n",
              "             pre_dispatch='2*n_jobs', refit=True, return_train_score=False,\n",
              "             scoring='neg_mean_squared_error', verbose=0)"
            ]
          },
          "metadata": {
            "tags": []
          },
          "execution_count": 31
        }
      ]
    },
    {
      "cell_type": "code",
      "metadata": {
        "id": "Wo4qKQVgnAQq"
      },
      "source": [
        "# Cross Validation (Logistic Regression w/ tuned parameters)\n",
        "from sklearn.model_selection import cross_val_score as cvs\n",
        "scores = cvs(grid_search.best_estimator_, X_train, y_train, scoring='neg_mean_squared_error', cv=10)\n",
        "regb_rmse_scores = np.sqrt(-scores)  "
      ],
      "execution_count": 32,
      "outputs": []
    },
    {
      "cell_type": "code",
      "metadata": {
        "colab": {
          "base_uri": "https://localhost:8080/"
        },
        "id": "F3kWTxCxnCzf",
        "outputId": "4d0e6746-6230-48e6-c9c2-e3a251e65819"
      },
      "source": [
        "def display_scores(scores): \n",
        "  print(\"Scores:\", scores)\n",
        "  print(\"Mean:\", scores.mean())\n",
        "  print(\"Standard deviation:\", scores.std())\n",
        "\n",
        "display_scores(regb_rmse_scores)"
      ],
      "execution_count": 33,
      "outputs": [
        {
          "output_type": "stream",
          "text": [
            "Scores: [0.66926577 0.71081865 0.59824304 0.64888568 0.68055705 0.65694669\n",
            " 0.64072328 0.64072328 0.69585237 0.64888568]\n",
            "Mean: 0.6590901488498513\n",
            "Standard deviation: 0.030301124487734563\n"
          ],
          "name": "stdout"
        }
      ]
    },
    {
      "cell_type": "code",
      "metadata": {
        "colab": {
          "base_uri": "https://localhost:8080/"
        },
        "id": "uP3nkPbgnGQh",
        "outputId": "f4e770a6-2087-4e7a-ada9-2e1e0ff401a6"
      },
      "source": [
        "# View Updated Metrics\n",
        "reg_predb = grid_search.best_estimator_.predict(X_test)\n",
        "cmlog = confusion_matrix(y_test, reg_predb)\n",
        "acc   = accuracy(y_test, reg_predb)\n",
        "rec   = recall(y_test, reg_predb)\n",
        "prec  = precision(y_test, reg_predb)\n",
        "f1    = f1_score(y_test, reg_predb)\n",
        "### END CODE HERE ###\n",
        "# Print the metrics, display the confusion matrix, and visualize the model\n",
        "print(f'Accuracy = {acc}, Precision = {prec}, Recall = {rec}, F1-score = {f1}')\n",
        "print('Confusion Matrix is:')\n",
        "print(cmlog)\n",
        "#No improvement"
      ],
      "execution_count": 34,
      "outputs": [
        {
          "output_type": "stream",
          "text": [
            "Accuracy = 0.5522388059701493, Precision = 0.445578231292517, Recall = 0.7359550561797753, F1-score = 0.5550847457627118\n",
            "Confusion Matrix is:\n",
            "[[128 163]\n",
            " [ 47 131]]\n"
          ],
          "name": "stdout"
        }
      ]
    },
    {
      "cell_type": "code",
      "metadata": {
        "colab": {
          "base_uri": "https://localhost:8080/"
        },
        "id": "x07ILzXKnOFL",
        "outputId": "a78d21b2-bb9b-431f-e6bb-046aab75e8a4"
      },
      "source": [
        "### START CODE HERE ###\n",
        "# Next Run SVM with class weight balanced\n",
        "svmm = make_pipeline(StandardScaler(),LinearSVC(random_state=0, tol=1e-2,class_weight='balanced', multi_class='ovr'))\n",
        "svmm.fit(X_train, y_train)\n",
        "### END CODE HERE ###"
      ],
      "execution_count": 35,
      "outputs": [
        {
          "output_type": "execute_result",
          "data": {
            "text/plain": [
              "Pipeline(memory=None,\n",
              "         steps=[('standardscaler',\n",
              "                 StandardScaler(copy=True, with_mean=True, with_std=True)),\n",
              "                ('linearsvc',\n",
              "                 LinearSVC(C=1.0, class_weight='balanced', dual=True,\n",
              "                           fit_intercept=True, intercept_scaling=1,\n",
              "                           loss='squared_hinge', max_iter=1000,\n",
              "                           multi_class='ovr', penalty='l2', random_state=0,\n",
              "                           tol=0.01, verbose=0))],\n",
              "         verbose=False)"
            ]
          },
          "metadata": {
            "tags": []
          },
          "execution_count": 35
        }
      ]
    },
    {
      "cell_type": "code",
      "metadata": {
        "colab": {
          "base_uri": "https://localhost:8080/"
        },
        "id": "mT5Ij_H1nSaN",
        "outputId": "d54b2b19-40f3-429c-b8ca-4e8597cdf730"
      },
      "source": [
        "### START CODE HERE ###\n",
        "svm_predb = svmm.predict(X_test)\n",
        "cms  = confusion_matrix(y_test, svm_predb)\n",
        "acc  = accuracy(y_test, svm_predb)\n",
        "rec  = recall(y_test, svm_predb)\n",
        "prec = precision(y_test, svm_predb)\n",
        "f1   = f1_score(y_test, svm_predb)\n",
        "### END CODE HERE ###\n",
        "# Print the metrics, display the confusion matrix, and visualize the model\n",
        "print(f'Accuracy = {acc}, Precision = {prec}, Recall = {rec}, F1-score = {f1}')\n",
        "print('Confusion Matrix is:')\n",
        "print(cms)"
      ],
      "execution_count": 36,
      "outputs": [
        {
          "output_type": "stream",
          "text": [
            "Accuracy = 0.5437100213219617, Precision = 0.4357142857142857, Recall = 0.6853932584269663, F1-score = 0.5327510917030569\n",
            "Confusion Matrix is:\n",
            "[[133 158]\n",
            " [ 56 122]]\n"
          ],
          "name": "stdout"
        }
      ]
    },
    {
      "cell_type": "code",
      "metadata": {
        "id": "5oazeSGd2PMw"
      },
      "source": [
        "svm_predb = svmm.predict(X_test)\n",
        "svm_predb = svm_predb.reshape(469,1)"
      ],
      "execution_count": 37,
      "outputs": []
    },
    {
      "cell_type": "markdown",
      "metadata": {
        "id": "_0TqQr4VjzYk"
      },
      "source": [
        "#### Append predictions to original spreadsheet"
      ]
    },
    {
      "cell_type": "code",
      "metadata": {
        "colab": {
          "base_uri": "https://localhost:8080/",
          "height": 419
        },
        "id": "3PgwmPyFZ77K",
        "outputId": "6b17f9ff-b0c9-4050-d2c8-d78ea310af0a"
      },
      "source": [
        "df = pd.read_csv('HBUnit.csv')\r\n",
        "df = df.iloc[idx2]\r\n",
        "\r\n",
        "df['predicted'] = svm_predb\r\n",
        "df['actual'] = df_train['Deduction Code'][idx2]\r\n",
        "\r\n",
        "# Rearrange column order\r\n",
        "col = ['Building Description',\r\n",
        "  'First Name',\r\n",
        "  'Last Name',\r\n",
        "  'Street Address',\r\n",
        "  'City/State/Zip',\r\n",
        "  'actual',\r\n",
        "  'predicted']\r\n",
        "df = df[col]\r\n",
        "df.iloc[np.where(df['actual'] != df['predicted'])]"
      ],
      "execution_count": 41,
      "outputs": [
        {
          "output_type": "execute_result",
          "data": {
            "text/html": [
              "<div>\n",
              "<style scoped>\n",
              "    .dataframe tbody tr th:only-of-type {\n",
              "        vertical-align: middle;\n",
              "    }\n",
              "\n",
              "    .dataframe tbody tr th {\n",
              "        vertical-align: top;\n",
              "    }\n",
              "\n",
              "    .dataframe thead th {\n",
              "        text-align: right;\n",
              "    }\n",
              "</style>\n",
              "<table border=\"1\" class=\"dataframe\">\n",
              "  <thead>\n",
              "    <tr style=\"text-align: right;\">\n",
              "      <th></th>\n",
              "      <th>Building Description</th>\n",
              "      <th>First Name</th>\n",
              "      <th>Last Name</th>\n",
              "      <th>Street Address</th>\n",
              "      <th>City/State/Zip</th>\n",
              "      <th>actual</th>\n",
              "      <th>predicted</th>\n",
              "    </tr>\n",
              "  </thead>\n",
              "  <tbody>\n",
              "    <tr>\n",
              "      <th>907</th>\n",
              "      <td>FWE</td>\n",
              "      <td>COURTNEY MICHELLE</td>\n",
              "      <td>MURFIELD</td>\n",
              "      <td>237 GREENSVIEW DR</td>\n",
              "      <td>AVON PARK FL 33825-0000</td>\n",
              "      <td>0.0</td>\n",
              "      <td>1.0</td>\n",
              "    </tr>\n",
              "    <tr>\n",
              "      <th>379</th>\n",
              "      <td>TRANSPORTATION</td>\n",
              "      <td>JOSEPH WILLIAM</td>\n",
              "      <td>POWERS</td>\n",
              "      <td>1107 HIGHLAND DR</td>\n",
              "      <td>SEBRING FL 33870-0000</td>\n",
              "      <td>0.0</td>\n",
              "      <td>1.0</td>\n",
              "    </tr>\n",
              "    <tr>\n",
              "      <th>710</th>\n",
              "      <td>LCE</td>\n",
              "      <td>MELISSA LYNNE THOMAS</td>\n",
              "      <td>MCCRARY</td>\n",
              "      <td>112 EVENTIDE AVE</td>\n",
              "      <td>LAKE PLACID FL 33852</td>\n",
              "      <td>0.0</td>\n",
              "      <td>1.0</td>\n",
              "    </tr>\n",
              "    <tr>\n",
              "      <th>1046</th>\n",
              "      <td>SHS</td>\n",
              "      <td>WENDY M</td>\n",
              "      <td>BAUER</td>\n",
              "      <td>2850 PETERS RD</td>\n",
              "      <td>SEBRING FL 33870-0000</td>\n",
              "      <td>0.0</td>\n",
              "      <td>1.0</td>\n",
              "    </tr>\n",
              "    <tr>\n",
              "      <th>1125</th>\n",
              "      <td>SHS</td>\n",
              "      <td>DETRICE J</td>\n",
              "      <td>MENCHAN</td>\n",
              "      <td>2439 W NAUTILUS RD</td>\n",
              "      <td>AVON PARK FL 33825-0000</td>\n",
              "      <td>0.0</td>\n",
              "      <td>1.0</td>\n",
              "    </tr>\n",
              "    <tr>\n",
              "      <th>...</th>\n",
              "      <td>...</td>\n",
              "      <td>...</td>\n",
              "      <td>...</td>\n",
              "      <td>...</td>\n",
              "      <td>...</td>\n",
              "      <td>...</td>\n",
              "      <td>...</td>\n",
              "    </tr>\n",
              "    <tr>\n",
              "      <th>776</th>\n",
              "      <td>WES</td>\n",
              "      <td>LAURA FRANCES</td>\n",
              "      <td>TENNESON</td>\n",
              "      <td>4009 HEDGE AVE</td>\n",
              "      <td>SEBRING FL 33875-0000</td>\n",
              "      <td>0.0</td>\n",
              "      <td>1.0</td>\n",
              "    </tr>\n",
              "    <tr>\n",
              "      <th>1247</th>\n",
              "      <td>LPM</td>\n",
              "      <td>ALICIA LYNN</td>\n",
              "      <td>VEGA</td>\n",
              "      <td>619 HILL RD</td>\n",
              "      <td>LAKE PLACID FL 33852-0000</td>\n",
              "      <td>0.0</td>\n",
              "      <td>1.0</td>\n",
              "    </tr>\n",
              "    <tr>\n",
              "      <th>1399</th>\n",
              "      <td>MIS</td>\n",
              "      <td>PAMELA A</td>\n",
              "      <td>LIESKE</td>\n",
              "      <td>512 SPORTSMAN AVE</td>\n",
              "      <td>SEBRING FL 33875-0000</td>\n",
              "      <td>0.0</td>\n",
              "      <td>1.0</td>\n",
              "    </tr>\n",
              "    <tr>\n",
              "      <th>583</th>\n",
              "      <td>SMS</td>\n",
              "      <td>WANDA E</td>\n",
              "      <td>JIMENEZ</td>\n",
              "      <td>4300 SHAD DR</td>\n",
              "      <td>SEBRING FL 33870-0000</td>\n",
              "      <td>0.0</td>\n",
              "      <td>1.0</td>\n",
              "    </tr>\n",
              "    <tr>\n",
              "      <th>20</th>\n",
              "      <td>TRANSPORTATION</td>\n",
              "      <td>DAISY DIANNE</td>\n",
              "      <td>SEASER</td>\n",
              "      <td>909 W LOCKE ST</td>\n",
              "      <td>AVON PARK FL 33825-0000</td>\n",
              "      <td>1.0</td>\n",
              "      <td>0.0</td>\n",
              "    </tr>\n",
              "  </tbody>\n",
              "</table>\n",
              "<p>214 rows × 7 columns</p>\n",
              "</div>"
            ],
            "text/plain": [
              "     Building Description            First Name  ... actual predicted\n",
              "907                   FWE     COURTNEY MICHELLE  ...    0.0       1.0\n",
              "379        TRANSPORTATION        JOSEPH WILLIAM  ...    0.0       1.0\n",
              "710                   LCE  MELISSA LYNNE THOMAS  ...    0.0       1.0\n",
              "1046                  SHS               WENDY M  ...    0.0       1.0\n",
              "1125                  SHS             DETRICE J  ...    0.0       1.0\n",
              "...                   ...                   ...  ...    ...       ...\n",
              "776                   WES         LAURA FRANCES  ...    0.0       1.0\n",
              "1247                  LPM           ALICIA LYNN  ...    0.0       1.0\n",
              "1399                  MIS              PAMELA A  ...    0.0       1.0\n",
              "583                   SMS               WANDA E  ...    0.0       1.0\n",
              "20         TRANSPORTATION          DAISY DIANNE  ...    1.0       0.0\n",
              "\n",
              "[214 rows x 7 columns]"
            ]
          },
          "metadata": {
            "tags": []
          },
          "execution_count": 41
        }
      ]
    },
    {
      "cell_type": "code",
      "metadata": {
        "id": "j_axnxjWJOKR"
      },
      "source": [
        ""
      ],
      "execution_count": null,
      "outputs": []
    }
  ]
}